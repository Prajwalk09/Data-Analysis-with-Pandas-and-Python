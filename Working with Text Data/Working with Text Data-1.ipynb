{
 "cells": [
  {
   "cell_type": "code",
   "execution_count": 1,
   "id": "9fd454d5",
   "metadata": {},
   "outputs": [],
   "source": [
    "import pandas as pd"
   ]
  },
  {
   "cell_type": "code",
   "execution_count": 2,
   "id": "cc7e37fe",
   "metadata": {},
   "outputs": [],
   "source": [
    "data = pd.read_csv('chicago.csv')\n",
    "data['Department'] = data['Department'].astype('category')"
   ]
  },
  {
   "cell_type": "code",
   "execution_count": 3,
   "id": "2fee79db",
   "metadata": {},
   "outputs": [
    {
     "data": {
      "text/html": [
       "<div>\n",
       "<style scoped>\n",
       "    .dataframe tbody tr th:only-of-type {\n",
       "        vertical-align: middle;\n",
       "    }\n",
       "\n",
       "    .dataframe tbody tr th {\n",
       "        vertical-align: top;\n",
       "    }\n",
       "\n",
       "    .dataframe thead th {\n",
       "        text-align: right;\n",
       "    }\n",
       "</style>\n",
       "<table border=\"1\" class=\"dataframe\">\n",
       "  <thead>\n",
       "    <tr style=\"text-align: right;\">\n",
       "      <th></th>\n",
       "      <th>Name</th>\n",
       "      <th>Position Title</th>\n",
       "      <th>Department</th>\n",
       "      <th>Employee Annual Salary</th>\n",
       "    </tr>\n",
       "  </thead>\n",
       "  <tbody>\n",
       "    <tr>\n",
       "      <th>0</th>\n",
       "      <td>AARON,  ELVIA J</td>\n",
       "      <td>WATER RATE TAKER</td>\n",
       "      <td>WATER MGMNT</td>\n",
       "      <td>$90744.00</td>\n",
       "    </tr>\n",
       "    <tr>\n",
       "      <th>1</th>\n",
       "      <td>AARON,  JEFFERY M</td>\n",
       "      <td>POLICE OFFICER</td>\n",
       "      <td>POLICE</td>\n",
       "      <td>$84450.00</td>\n",
       "    </tr>\n",
       "    <tr>\n",
       "      <th>2</th>\n",
       "      <td>AARON,  KARINA</td>\n",
       "      <td>POLICE OFFICER</td>\n",
       "      <td>POLICE</td>\n",
       "      <td>$84450.00</td>\n",
       "    </tr>\n",
       "    <tr>\n",
       "      <th>3</th>\n",
       "      <td>AARON,  KIMBERLEI R</td>\n",
       "      <td>CHIEF CONTRACT EXPEDITER</td>\n",
       "      <td>GENERAL SERVICES</td>\n",
       "      <td>$89880.00</td>\n",
       "    </tr>\n",
       "    <tr>\n",
       "      <th>4</th>\n",
       "      <td>ABAD JR,  VICENTE M</td>\n",
       "      <td>CIVIL ENGINEER IV</td>\n",
       "      <td>WATER MGMNT</td>\n",
       "      <td>$106836.00</td>\n",
       "    </tr>\n",
       "  </tbody>\n",
       "</table>\n",
       "</div>"
      ],
      "text/plain": [
       "                  Name            Position Title        Department  \\\n",
       "0      AARON,  ELVIA J          WATER RATE TAKER       WATER MGMNT   \n",
       "1    AARON,  JEFFERY M            POLICE OFFICER            POLICE   \n",
       "2       AARON,  KARINA            POLICE OFFICER            POLICE   \n",
       "3  AARON,  KIMBERLEI R  CHIEF CONTRACT EXPEDITER  GENERAL SERVICES   \n",
       "4  ABAD JR,  VICENTE M         CIVIL ENGINEER IV       WATER MGMNT   \n",
       "\n",
       "  Employee Annual Salary  \n",
       "0              $90744.00  \n",
       "1              $84450.00  \n",
       "2              $84450.00  \n",
       "3              $89880.00  \n",
       "4             $106836.00  "
      ]
     },
     "execution_count": 3,
     "metadata": {},
     "output_type": "execute_result"
    }
   ],
   "source": [
    "data.head()"
   ]
  },
  {
   "cell_type": "code",
   "execution_count": 4,
   "id": "5057358a",
   "metadata": {},
   "outputs": [
    {
     "name": "stdout",
     "output_type": "stream",
     "text": [
      "<class 'pandas.core.frame.DataFrame'>\n",
      "RangeIndex: 32063 entries, 0 to 32062\n",
      "Data columns (total 4 columns):\n",
      " #   Column                  Non-Null Count  Dtype   \n",
      "---  ------                  --------------  -----   \n",
      " 0   Name                    32062 non-null  object  \n",
      " 1   Position Title          32062 non-null  object  \n",
      " 2   Department              32062 non-null  category\n",
      " 3   Employee Annual Salary  32062 non-null  object  \n",
      "dtypes: category(1), object(3)\n",
      "memory usage: 784.2+ KB\n"
     ]
    }
   ],
   "source": [
    "data.info()"
   ]
  },
  {
   "cell_type": "markdown",
   "id": "2e888904",
   "metadata": {},
   "source": [
    "### .lower(), .upper(), .title() and .len() Methods"
   ]
  },
  {
   "cell_type": "code",
   "execution_count": 5,
   "id": "defae6ef",
   "metadata": {
    "scrolled": true
   },
   "outputs": [
    {
     "data": {
      "text/plain": [
       "11"
      ]
     },
     "execution_count": 5,
     "metadata": {},
     "output_type": "execute_result"
    }
   ],
   "source": [
    "\"HELLO WORLD\".lower()\n",
    "\n",
    "\"hello world\".upper()\n",
    "\n",
    "'hello world'.title()\n",
    "\n",
    "len('hello world')"
   ]
  },
  {
   "cell_type": "code",
   "execution_count": 6,
   "id": "d13e52e0",
   "metadata": {},
   "outputs": [],
   "source": [
    "# data['Name'].upper()"
   ]
  },
  {
   "cell_type": "code",
   "execution_count": 7,
   "id": "89e5727e",
   "metadata": {},
   "outputs": [
    {
     "data": {
      "text/plain": [
       "0        aaron,  elvia j\n",
       "1      aaron,  jeffery m\n",
       "2         aaron,  karina\n",
       "3    aaron,  kimberlei r\n",
       "4    abad jr,  vicente m\n",
       "Name: Name, dtype: object"
      ]
     },
     "execution_count": 7,
     "metadata": {},
     "output_type": "execute_result"
    }
   ],
   "source": [
    "data['Name'].str.lower().head()"
   ]
  },
  {
   "cell_type": "code",
   "execution_count": 8,
   "id": "eb735f2a",
   "metadata": {},
   "outputs": [
    {
     "data": {
      "text/plain": [
       "0        Aaron,  Elvia J\n",
       "1      Aaron,  Jeffery M\n",
       "2         Aaron,  Karina\n",
       "3    Aaron,  Kimberlei R\n",
       "4    Abad Jr,  Vicente M\n",
       "Name: Name, dtype: object"
      ]
     },
     "execution_count": 8,
     "metadata": {},
     "output_type": "execute_result"
    }
   ],
   "source": [
    "data['Name'].str.title().head()"
   ]
  },
  {
   "cell_type": "code",
   "execution_count": 9,
   "id": "5359c602",
   "metadata": {},
   "outputs": [
    {
     "data": {
      "text/html": [
       "<div>\n",
       "<style scoped>\n",
       "    .dataframe tbody tr th:only-of-type {\n",
       "        vertical-align: middle;\n",
       "    }\n",
       "\n",
       "    .dataframe tbody tr th {\n",
       "        vertical-align: top;\n",
       "    }\n",
       "\n",
       "    .dataframe thead th {\n",
       "        text-align: right;\n",
       "    }\n",
       "</style>\n",
       "<table border=\"1\" class=\"dataframe\">\n",
       "  <thead>\n",
       "    <tr style=\"text-align: right;\">\n",
       "      <th></th>\n",
       "      <th>Position Title</th>\n",
       "    </tr>\n",
       "  </thead>\n",
       "  <tbody>\n",
       "    <tr>\n",
       "      <th>0</th>\n",
       "      <td>Water Rate Taker</td>\n",
       "    </tr>\n",
       "    <tr>\n",
       "      <th>1</th>\n",
       "      <td>Police Officer</td>\n",
       "    </tr>\n",
       "    <tr>\n",
       "      <th>2</th>\n",
       "      <td>Police Officer</td>\n",
       "    </tr>\n",
       "    <tr>\n",
       "      <th>3</th>\n",
       "      <td>Chief Contract Expediter</td>\n",
       "    </tr>\n",
       "    <tr>\n",
       "      <th>4</th>\n",
       "      <td>Civil Engineer Iv</td>\n",
       "    </tr>\n",
       "  </tbody>\n",
       "</table>\n",
       "</div>"
      ],
      "text/plain": [
       "             Position Title\n",
       "0          Water Rate Taker\n",
       "1            Police Officer\n",
       "2            Police Officer\n",
       "3  Chief Contract Expediter\n",
       "4         Civil Engineer Iv"
      ]
     },
     "execution_count": 9,
     "metadata": {},
     "output_type": "execute_result"
    }
   ],
   "source": [
    "pd.DataFrame(data['Position Title'].str.title().head())"
   ]
  },
  {
   "cell_type": "code",
   "execution_count": 10,
   "id": "8dc10aa3",
   "metadata": {},
   "outputs": [
    {
     "data": {
      "text/plain": [
       "0        16\n",
       "1        14\n",
       "2        14\n",
       "3        24\n",
       "4        17\n",
       "         ..\n",
       "32057    30\n",
       "32058    14\n",
       "32059    14\n",
       "32060    14\n",
       "32061    23\n",
       "Name: Position Title, Length: 32062, dtype: int32"
      ]
     },
     "execution_count": 10,
     "metadata": {},
     "output_type": "execute_result"
    }
   ],
   "source": [
    "data['Position Title'].str.len().iloc[:-1].astype(int)"
   ]
  },
  {
   "cell_type": "markdown",
   "id": "60f0c863",
   "metadata": {},
   "source": [
    "### .str.replace() Method "
   ]
  },
  {
   "cell_type": "code",
   "execution_count": 11,
   "id": "1708b2fd",
   "metadata": {},
   "outputs": [
    {
     "data": {
      "text/plain": [
       "'HeTTo WorTd'"
      ]
     },
     "execution_count": 11,
     "metadata": {},
     "output_type": "execute_result"
    }
   ],
   "source": [
    "\"Hello World\".replace('l', 'T')"
   ]
  },
  {
   "cell_type": "code",
   "execution_count": 12,
   "id": "0b07880d",
   "metadata": {},
   "outputs": [
    {
     "data": {
      "text/html": [
       "<div>\n",
       "<style scoped>\n",
       "    .dataframe tbody tr th:only-of-type {\n",
       "        vertical-align: middle;\n",
       "    }\n",
       "\n",
       "    .dataframe tbody tr th {\n",
       "        vertical-align: top;\n",
       "    }\n",
       "\n",
       "    .dataframe thead th {\n",
       "        text-align: right;\n",
       "    }\n",
       "</style>\n",
       "<table border=\"1\" class=\"dataframe\">\n",
       "  <thead>\n",
       "    <tr style=\"text-align: right;\">\n",
       "      <th></th>\n",
       "      <th>Name</th>\n",
       "      <th>Position Title</th>\n",
       "      <th>Department</th>\n",
       "      <th>Employee Annual Salary</th>\n",
       "    </tr>\n",
       "  </thead>\n",
       "  <tbody>\n",
       "    <tr>\n",
       "      <th>32057</th>\n",
       "      <td>ZYGADLO,  MICHAEL J</td>\n",
       "      <td>FRM OF MACHINISTS - AUTOMOTIVE</td>\n",
       "      <td>GENERAL SERVICES</td>\n",
       "      <td>$99528.00</td>\n",
       "    </tr>\n",
       "    <tr>\n",
       "      <th>32058</th>\n",
       "      <td>ZYGOWICZ,  PETER J</td>\n",
       "      <td>POLICE OFFICER</td>\n",
       "      <td>POLICE</td>\n",
       "      <td>$87384.00</td>\n",
       "    </tr>\n",
       "    <tr>\n",
       "      <th>32059</th>\n",
       "      <td>ZYMANTAS,  MARK E</td>\n",
       "      <td>POLICE OFFICER</td>\n",
       "      <td>POLICE</td>\n",
       "      <td>$84450.00</td>\n",
       "    </tr>\n",
       "    <tr>\n",
       "      <th>32060</th>\n",
       "      <td>ZYRKOWSKI,  CARLO E</td>\n",
       "      <td>POLICE OFFICER</td>\n",
       "      <td>POLICE</td>\n",
       "      <td>$87384.00</td>\n",
       "    </tr>\n",
       "    <tr>\n",
       "      <th>32061</th>\n",
       "      <td>ZYSKOWSKI,  DARIUSZ</td>\n",
       "      <td>CHIEF DATA BASE ANALYST</td>\n",
       "      <td>DoIT</td>\n",
       "      <td>$113664.00</td>\n",
       "    </tr>\n",
       "  </tbody>\n",
       "</table>\n",
       "</div>"
      ],
      "text/plain": [
       "                      Name                  Position Title        Department  \\\n",
       "32057  ZYGADLO,  MICHAEL J  FRM OF MACHINISTS - AUTOMOTIVE  GENERAL SERVICES   \n",
       "32058   ZYGOWICZ,  PETER J                  POLICE OFFICER            POLICE   \n",
       "32059    ZYMANTAS,  MARK E                  POLICE OFFICER            POLICE   \n",
       "32060  ZYRKOWSKI,  CARLO E                  POLICE OFFICER            POLICE   \n",
       "32061  ZYSKOWSKI,  DARIUSZ         CHIEF DATA BASE ANALYST              DoIT   \n",
       "\n",
       "      Employee Annual Salary  \n",
       "32057              $99528.00  \n",
       "32058              $87384.00  \n",
       "32059              $84450.00  \n",
       "32060              $87384.00  \n",
       "32061             $113664.00  "
      ]
     },
     "execution_count": 12,
     "metadata": {},
     "output_type": "execute_result"
    }
   ],
   "source": [
    "data.dropna(inplace = True, how  = 'all')\n",
    "data.tail()"
   ]
  },
  {
   "cell_type": "code",
   "execution_count": 13,
   "id": "59db67d2",
   "metadata": {},
   "outputs": [
    {
     "data": {
      "text/html": [
       "<div>\n",
       "<style scoped>\n",
       "    .dataframe tbody tr th:only-of-type {\n",
       "        vertical-align: middle;\n",
       "    }\n",
       "\n",
       "    .dataframe tbody tr th {\n",
       "        vertical-align: top;\n",
       "    }\n",
       "\n",
       "    .dataframe thead th {\n",
       "        text-align: right;\n",
       "    }\n",
       "</style>\n",
       "<table border=\"1\" class=\"dataframe\">\n",
       "  <thead>\n",
       "    <tr style=\"text-align: right;\">\n",
       "      <th></th>\n",
       "      <th>Name</th>\n",
       "      <th>Position Title</th>\n",
       "      <th>Department</th>\n",
       "      <th>Employee Annual Salary</th>\n",
       "    </tr>\n",
       "  </thead>\n",
       "  <tbody>\n",
       "    <tr>\n",
       "      <th>0</th>\n",
       "      <td>AARON,  ELVIA J</td>\n",
       "      <td>WATER RATE TAKER</td>\n",
       "      <td>WATER MANAGEMENT</td>\n",
       "      <td>$90744.00</td>\n",
       "    </tr>\n",
       "    <tr>\n",
       "      <th>1</th>\n",
       "      <td>AARON,  JEFFERY M</td>\n",
       "      <td>POLICE OFFICER</td>\n",
       "      <td>POLICE</td>\n",
       "      <td>$84450.00</td>\n",
       "    </tr>\n",
       "    <tr>\n",
       "      <th>2</th>\n",
       "      <td>AARON,  KARINA</td>\n",
       "      <td>POLICE OFFICER</td>\n",
       "      <td>POLICE</td>\n",
       "      <td>$84450.00</td>\n",
       "    </tr>\n",
       "    <tr>\n",
       "      <th>3</th>\n",
       "      <td>AARON,  KIMBERLEI R</td>\n",
       "      <td>CHIEF CONTRACT EXPEDITER</td>\n",
       "      <td>GENERAL SERVICES</td>\n",
       "      <td>$89880.00</td>\n",
       "    </tr>\n",
       "    <tr>\n",
       "      <th>4</th>\n",
       "      <td>ABAD JR,  VICENTE M</td>\n",
       "      <td>CIVIL ENGINEER IV</td>\n",
       "      <td>WATER MANAGEMENT</td>\n",
       "      <td>$106836.00</td>\n",
       "    </tr>\n",
       "  </tbody>\n",
       "</table>\n",
       "</div>"
      ],
      "text/plain": [
       "                  Name            Position Title        Department  \\\n",
       "0      AARON,  ELVIA J          WATER RATE TAKER  WATER MANAGEMENT   \n",
       "1    AARON,  JEFFERY M            POLICE OFFICER            POLICE   \n",
       "2       AARON,  KARINA            POLICE OFFICER            POLICE   \n",
       "3  AARON,  KIMBERLEI R  CHIEF CONTRACT EXPEDITER  GENERAL SERVICES   \n",
       "4  ABAD JR,  VICENTE M         CIVIL ENGINEER IV  WATER MANAGEMENT   \n",
       "\n",
       "  Employee Annual Salary  \n",
       "0              $90744.00  \n",
       "1              $84450.00  \n",
       "2              $84450.00  \n",
       "3              $89880.00  \n",
       "4             $106836.00  "
      ]
     },
     "execution_count": 13,
     "metadata": {},
     "output_type": "execute_result"
    }
   ],
   "source": [
    "data['Department'] = data['Department'].str.replace('MGMNT', 'MANAGEMENT')\n",
    "data.head()"
   ]
  },
  {
   "cell_type": "code",
   "execution_count": 14,
   "id": "09afd94a",
   "metadata": {},
   "outputs": [
    {
     "name": "stderr",
     "output_type": "stream",
     "text": [
      "C:\\Users\\prajw\\AppData\\Local\\Temp\\ipykernel_25060\\1691439072.py:1: FutureWarning: The default value of regex will change from True to False in a future version. In addition, single character regular expressions will *not* be treated as literal strings when regex=True.\n",
      "  data['Employee Annual Salary'] = data['Employee Annual Salary'].str.replace('$', \"\").astype(float)\n"
     ]
    }
   ],
   "source": [
    "data['Employee Annual Salary'] = data['Employee Annual Salary'].str.replace('$', \"\").astype(float)"
   ]
  },
  {
   "cell_type": "code",
   "execution_count": 15,
   "id": "b0d865ee",
   "metadata": {},
   "outputs": [
    {
     "data": {
      "text/plain": [
       "15102"
      ]
     },
     "execution_count": 15,
     "metadata": {},
     "output_type": "execute_result"
    }
   ],
   "source": [
    "data['Employee Annual Salary'].nlargest(10)\n",
    "data['Employee Annual Salary'].idxmax()\n",
    "data['Employee Annual Salary'].idxmin()"
   ]
  },
  {
   "cell_type": "markdown",
   "id": "1cd2b58d",
   "metadata": {},
   "source": [
    "### Filtering with String Methods"
   ]
  },
  {
   "cell_type": "code",
   "execution_count": 16,
   "id": "8f243dfb",
   "metadata": {},
   "outputs": [
    {
     "data": {
      "text/html": [
       "<div>\n",
       "<style scoped>\n",
       "    .dataframe tbody tr th:only-of-type {\n",
       "        vertical-align: middle;\n",
       "    }\n",
       "\n",
       "    .dataframe tbody tr th {\n",
       "        vertical-align: top;\n",
       "    }\n",
       "\n",
       "    .dataframe thead th {\n",
       "        text-align: right;\n",
       "    }\n",
       "</style>\n",
       "<table border=\"1\" class=\"dataframe\">\n",
       "  <thead>\n",
       "    <tr style=\"text-align: right;\">\n",
       "      <th></th>\n",
       "      <th>Name</th>\n",
       "      <th>Position Title</th>\n",
       "      <th>Department</th>\n",
       "      <th>Employee Annual Salary</th>\n",
       "    </tr>\n",
       "  </thead>\n",
       "  <tbody>\n",
       "    <tr>\n",
       "      <th>0</th>\n",
       "      <td>AARON,  ELVIA J</td>\n",
       "      <td>WATER RATE TAKER</td>\n",
       "      <td>WATER MANAGEMENT</td>\n",
       "      <td>90744.0</td>\n",
       "    </tr>\n",
       "    <tr>\n",
       "      <th>554</th>\n",
       "      <td>ALUISE,  VINCENT G</td>\n",
       "      <td>FOREMAN OF WATER PIPE CONSTRUCTION</td>\n",
       "      <td>WATER MANAGEMENT</td>\n",
       "      <td>102440.0</td>\n",
       "    </tr>\n",
       "    <tr>\n",
       "      <th>671</th>\n",
       "      <td>ANDER,  PERRY A</td>\n",
       "      <td>WATER CHEMIST II</td>\n",
       "      <td>WATER MANAGEMENT</td>\n",
       "      <td>82044.0</td>\n",
       "    </tr>\n",
       "    <tr>\n",
       "      <th>685</th>\n",
       "      <td>ANDERSON,  ANDREW J</td>\n",
       "      <td>DISTRICT SUPERINTENDENT OF WATER DISTRIBUTION</td>\n",
       "      <td>WATER MANAGEMENT</td>\n",
       "      <td>109272.0</td>\n",
       "    </tr>\n",
       "    <tr>\n",
       "      <th>702</th>\n",
       "      <td>ANDERSON,  DONALD</td>\n",
       "      <td>FOREMAN OF WATER PIPE CONSTRUCTION</td>\n",
       "      <td>WATER MANAGEMENT</td>\n",
       "      <td>102440.0</td>\n",
       "    </tr>\n",
       "    <tr>\n",
       "      <th>...</th>\n",
       "      <td>...</td>\n",
       "      <td>...</td>\n",
       "      <td>...</td>\n",
       "      <td>...</td>\n",
       "    </tr>\n",
       "    <tr>\n",
       "      <th>29669</th>\n",
       "      <td>VERMA,  ANUPAM</td>\n",
       "      <td>MANAGING ENGINEER - WATER MANAGEMENT</td>\n",
       "      <td>WATER MANAGEMENT</td>\n",
       "      <td>111192.0</td>\n",
       "    </tr>\n",
       "    <tr>\n",
       "      <th>30239</th>\n",
       "      <td>WASHINGTON,  JOSEPH</td>\n",
       "      <td>WATER CHEMIST III</td>\n",
       "      <td>WATER MANAGEMENT</td>\n",
       "      <td>89676.0</td>\n",
       "    </tr>\n",
       "    <tr>\n",
       "      <th>30544</th>\n",
       "      <td>WEST,  THOMAS R</td>\n",
       "      <td>GEN SUPT OF WATER MANAGEMENT</td>\n",
       "      <td>WATER MANAGEMENT</td>\n",
       "      <td>115704.0</td>\n",
       "    </tr>\n",
       "    <tr>\n",
       "      <th>30991</th>\n",
       "      <td>WILLIAMS,  MATTHEW</td>\n",
       "      <td>FOREMAN OF WATER PIPE CONSTRUCTION</td>\n",
       "      <td>WATER MANAGEMENT</td>\n",
       "      <td>102440.0</td>\n",
       "    </tr>\n",
       "    <tr>\n",
       "      <th>31405</th>\n",
       "      <td>WOODRIDGE,  ROBERT L</td>\n",
       "      <td>FOREMAN OF WATER PIPE CONSTRUCTION</td>\n",
       "      <td>WATER MANAGEMENT</td>\n",
       "      <td>102440.0</td>\n",
       "    </tr>\n",
       "  </tbody>\n",
       "</table>\n",
       "<p>111 rows × 4 columns</p>\n",
       "</div>"
      ],
      "text/plain": [
       "                       Name                                 Position Title  \\\n",
       "0           AARON,  ELVIA J                               WATER RATE TAKER   \n",
       "554      ALUISE,  VINCENT G             FOREMAN OF WATER PIPE CONSTRUCTION   \n",
       "671         ANDER,  PERRY A                               WATER CHEMIST II   \n",
       "685     ANDERSON,  ANDREW J  DISTRICT SUPERINTENDENT OF WATER DISTRIBUTION   \n",
       "702       ANDERSON,  DONALD             FOREMAN OF WATER PIPE CONSTRUCTION   \n",
       "...                     ...                                            ...   \n",
       "29669        VERMA,  ANUPAM           MANAGING ENGINEER - WATER MANAGEMENT   \n",
       "30239   WASHINGTON,  JOSEPH                              WATER CHEMIST III   \n",
       "30544       WEST,  THOMAS R                   GEN SUPT OF WATER MANAGEMENT   \n",
       "30991    WILLIAMS,  MATTHEW             FOREMAN OF WATER PIPE CONSTRUCTION   \n",
       "31405  WOODRIDGE,  ROBERT L             FOREMAN OF WATER PIPE CONSTRUCTION   \n",
       "\n",
       "             Department  Employee Annual Salary  \n",
       "0      WATER MANAGEMENT                 90744.0  \n",
       "554    WATER MANAGEMENT                102440.0  \n",
       "671    WATER MANAGEMENT                 82044.0  \n",
       "685    WATER MANAGEMENT                109272.0  \n",
       "702    WATER MANAGEMENT                102440.0  \n",
       "...                 ...                     ...  \n",
       "29669  WATER MANAGEMENT                111192.0  \n",
       "30239  WATER MANAGEMENT                 89676.0  \n",
       "30544  WATER MANAGEMENT                115704.0  \n",
       "30991  WATER MANAGEMENT                102440.0  \n",
       "31405  WATER MANAGEMENT                102440.0  \n",
       "\n",
       "[111 rows x 4 columns]"
      ]
     },
     "execution_count": 16,
     "metadata": {},
     "output_type": "execute_result"
    }
   ],
   "source": [
    "data[data['Position Title'].str.lower().str.contains('water')]"
   ]
  },
  {
   "cell_type": "code",
   "execution_count": 17,
   "id": "1ab65c49",
   "metadata": {},
   "outputs": [
    {
     "data": {
      "text/html": [
       "<div>\n",
       "<style scoped>\n",
       "    .dataframe tbody tr th:only-of-type {\n",
       "        vertical-align: middle;\n",
       "    }\n",
       "\n",
       "    .dataframe tbody tr th {\n",
       "        vertical-align: top;\n",
       "    }\n",
       "\n",
       "    .dataframe thead th {\n",
       "        text-align: right;\n",
       "    }\n",
       "</style>\n",
       "<table border=\"1\" class=\"dataframe\">\n",
       "  <thead>\n",
       "    <tr style=\"text-align: right;\">\n",
       "      <th></th>\n",
       "      <th>Name</th>\n",
       "      <th>Position Title</th>\n",
       "      <th>Department</th>\n",
       "      <th>Employee Annual Salary</th>\n",
       "    </tr>\n",
       "  </thead>\n",
       "  <tbody>\n",
       "    <tr>\n",
       "      <th>619</th>\n",
       "      <td>AMADO,  BONITA S</td>\n",
       "      <td>DIR OF FACILITIES MANAGEMENT</td>\n",
       "      <td>POLICE</td>\n",
       "      <td>109008.0</td>\n",
       "    </tr>\n",
       "    <tr>\n",
       "      <th>1645</th>\n",
       "      <td>BATIE,  FERRIS C</td>\n",
       "      <td>DIR OF FACILITIES MANAGEMENT</td>\n",
       "      <td>GENERAL SERVICES</td>\n",
       "      <td>112308.0</td>\n",
       "    </tr>\n",
       "    <tr>\n",
       "      <th>4484</th>\n",
       "      <td>CHAO,  JOSE A</td>\n",
       "      <td>DIR OF FACILITIES MANAGEMENT</td>\n",
       "      <td>CULTURAL AFFAIRS</td>\n",
       "      <td>95820.0</td>\n",
       "    </tr>\n",
       "    <tr>\n",
       "      <th>6421</th>\n",
       "      <td>DAVIS III,  WALLACE</td>\n",
       "      <td>GEN SUPT OF WATER MANAGEMENT</td>\n",
       "      <td>WATER MANAGEMENT</td>\n",
       "      <td>119208.0</td>\n",
       "    </tr>\n",
       "    <tr>\n",
       "      <th>9751</th>\n",
       "      <td>GASPAR,  RICARDO</td>\n",
       "      <td>DIR OF FACILITIES MANAGEMENT</td>\n",
       "      <td>AVIATION</td>\n",
       "      <td>106848.0</td>\n",
       "    </tr>\n",
       "    <tr>\n",
       "      <th>11466</th>\n",
       "      <td>HARDY,  MARIE E</td>\n",
       "      <td>ASST COORD OF COLLECTION MANAGEMENT</td>\n",
       "      <td>PUBLIC LIBRARY</td>\n",
       "      <td>83340.0</td>\n",
       "    </tr>\n",
       "    <tr>\n",
       "      <th>12412</th>\n",
       "      <td>HNATKO,  WAYNE S</td>\n",
       "      <td>ASST DIR OF BUILDINGS MANAGEMENT</td>\n",
       "      <td>GENERAL SERVICES</td>\n",
       "      <td>110088.0</td>\n",
       "    </tr>\n",
       "    <tr>\n",
       "      <th>14897</th>\n",
       "      <td>KING,  JOHN T</td>\n",
       "      <td>GEN SUPT OF WATER MANAGEMENT</td>\n",
       "      <td>WATER MANAGEMENT</td>\n",
       "      <td>114204.0</td>\n",
       "    </tr>\n",
       "    <tr>\n",
       "      <th>18237</th>\n",
       "      <td>MCFARLAND,  ANDREW S</td>\n",
       "      <td>MANAGING ENGINEER - WATER MANAGEMENT</td>\n",
       "      <td>WATER MANAGEMENT</td>\n",
       "      <td>111192.0</td>\n",
       "    </tr>\n",
       "    <tr>\n",
       "      <th>23792</th>\n",
       "      <td>REYNOLDS,  DAVID J</td>\n",
       "      <td>COMMISSIONER OF FLEET &amp; FACILITY MANAGEMENT</td>\n",
       "      <td>GENERAL SERVICES</td>\n",
       "      <td>157092.0</td>\n",
       "    </tr>\n",
       "    <tr>\n",
       "      <th>25160</th>\n",
       "      <td>SACHS,  LARRY E</td>\n",
       "      <td>DIR OF GRANTS MANAGEMENT</td>\n",
       "      <td>POLICE</td>\n",
       "      <td>97860.0</td>\n",
       "    </tr>\n",
       "    <tr>\n",
       "      <th>26171</th>\n",
       "      <td>SHAW,  DORELLE L</td>\n",
       "      <td>COORD OF GRANTS MANAGEMENT</td>\n",
       "      <td>HEALTH</td>\n",
       "      <td>89880.0</td>\n",
       "    </tr>\n",
       "    <tr>\n",
       "      <th>27599</th>\n",
       "      <td>STEWART,  VIRGINIA L</td>\n",
       "      <td>COORD OF GRANTS MANAGEMENT</td>\n",
       "      <td>TRANSPORTN</td>\n",
       "      <td>89880.0</td>\n",
       "    </tr>\n",
       "    <tr>\n",
       "      <th>29669</th>\n",
       "      <td>VERMA,  ANUPAM</td>\n",
       "      <td>MANAGING ENGINEER - WATER MANAGEMENT</td>\n",
       "      <td>WATER MANAGEMENT</td>\n",
       "      <td>111192.0</td>\n",
       "    </tr>\n",
       "    <tr>\n",
       "      <th>30544</th>\n",
       "      <td>WEST,  THOMAS R</td>\n",
       "      <td>GEN SUPT OF WATER MANAGEMENT</td>\n",
       "      <td>WATER MANAGEMENT</td>\n",
       "      <td>115704.0</td>\n",
       "    </tr>\n",
       "  </tbody>\n",
       "</table>\n",
       "</div>"
      ],
      "text/plain": [
       "                       Name                               Position Title  \\\n",
       "619        AMADO,  BONITA S                 DIR OF FACILITIES MANAGEMENT   \n",
       "1645       BATIE,  FERRIS C                 DIR OF FACILITIES MANAGEMENT   \n",
       "4484          CHAO,  JOSE A                 DIR OF FACILITIES MANAGEMENT   \n",
       "6421    DAVIS III,  WALLACE                 GEN SUPT OF WATER MANAGEMENT   \n",
       "9751       GASPAR,  RICARDO                 DIR OF FACILITIES MANAGEMENT   \n",
       "11466       HARDY,  MARIE E          ASST COORD OF COLLECTION MANAGEMENT   \n",
       "12412      HNATKO,  WAYNE S             ASST DIR OF BUILDINGS MANAGEMENT   \n",
       "14897         KING,  JOHN T                 GEN SUPT OF WATER MANAGEMENT   \n",
       "18237  MCFARLAND,  ANDREW S         MANAGING ENGINEER - WATER MANAGEMENT   \n",
       "23792    REYNOLDS,  DAVID J  COMMISSIONER OF FLEET & FACILITY MANAGEMENT   \n",
       "25160       SACHS,  LARRY E                     DIR OF GRANTS MANAGEMENT   \n",
       "26171      SHAW,  DORELLE L                   COORD OF GRANTS MANAGEMENT   \n",
       "27599  STEWART,  VIRGINIA L                   COORD OF GRANTS MANAGEMENT   \n",
       "29669        VERMA,  ANUPAM         MANAGING ENGINEER - WATER MANAGEMENT   \n",
       "30544       WEST,  THOMAS R                 GEN SUPT OF WATER MANAGEMENT   \n",
       "\n",
       "             Department  Employee Annual Salary  \n",
       "619              POLICE                109008.0  \n",
       "1645   GENERAL SERVICES                112308.0  \n",
       "4484   CULTURAL AFFAIRS                 95820.0  \n",
       "6421   WATER MANAGEMENT                119208.0  \n",
       "9751           AVIATION                106848.0  \n",
       "11466    PUBLIC LIBRARY                 83340.0  \n",
       "12412  GENERAL SERVICES                110088.0  \n",
       "14897  WATER MANAGEMENT                114204.0  \n",
       "18237  WATER MANAGEMENT                111192.0  \n",
       "23792  GENERAL SERVICES                157092.0  \n",
       "25160            POLICE                 97860.0  \n",
       "26171            HEALTH                 89880.0  \n",
       "27599        TRANSPORTN                 89880.0  \n",
       "29669  WATER MANAGEMENT                111192.0  \n",
       "30544  WATER MANAGEMENT                115704.0  "
      ]
     },
     "execution_count": 17,
     "metadata": {},
     "output_type": "execute_result"
    }
   ],
   "source": [
    "data[data['Position Title'].str.startswith('WATER')]\n",
    "data[data['Position Title'].str.endswith('MANAGEMENT')]"
   ]
  },
  {
   "cell_type": "markdown",
   "id": "23cb18df",
   "metadata": {},
   "source": [
    "### strip(), lstrip() and rstrip() Methods"
   ]
  },
  {
   "cell_type": "code",
   "execution_count": 18,
   "id": "924e4130",
   "metadata": {},
   "outputs": [
    {
     "name": "stdout",
     "output_type": "stream",
     "text": [
      "Hello World   \n",
      "     Hello World\n",
      "Hello World\n"
     ]
    }
   ],
   "source": [
    "print(\"     Hello World   \".lstrip())\n",
    "print(\"     Hello World   \".rstrip())\n",
    "print(\"     Hello World   \".strip())"
   ]
  },
  {
   "cell_type": "code",
   "execution_count": 19,
   "id": "9f7c2301",
   "metadata": {},
   "outputs": [],
   "source": [
    "data['Name'] = data['Name'].str.strip()\n",
    "data['Position Title'] = data['Position Title'].str.strip()"
   ]
  },
  {
   "cell_type": "markdown",
   "id": "1ef7e10f",
   "metadata": {},
   "source": [
    "### String Methods on Index and Columns"
   ]
  },
  {
   "cell_type": "code",
   "execution_count": 20,
   "id": "b3fa6167",
   "metadata": {},
   "outputs": [
    {
     "data": {
      "text/html": [
       "<div>\n",
       "<style scoped>\n",
       "    .dataframe tbody tr th:only-of-type {\n",
       "        vertical-align: middle;\n",
       "    }\n",
       "\n",
       "    .dataframe tbody tr th {\n",
       "        vertical-align: top;\n",
       "    }\n",
       "\n",
       "    .dataframe thead th {\n",
       "        text-align: right;\n",
       "    }\n",
       "</style>\n",
       "<table border=\"1\" class=\"dataframe\">\n",
       "  <thead>\n",
       "    <tr style=\"text-align: right;\">\n",
       "      <th></th>\n",
       "      <th>Position Title</th>\n",
       "      <th>Department</th>\n",
       "      <th>Employee Annual Salary</th>\n",
       "    </tr>\n",
       "    <tr>\n",
       "      <th>Name</th>\n",
       "      <th></th>\n",
       "      <th></th>\n",
       "      <th></th>\n",
       "    </tr>\n",
       "  </thead>\n",
       "  <tbody>\n",
       "    <tr>\n",
       "      <th>AARON,  ELVIA J</th>\n",
       "      <td>WATER RATE TAKER</td>\n",
       "      <td>WATER MANAGEMENT</td>\n",
       "      <td>90744.0</td>\n",
       "    </tr>\n",
       "    <tr>\n",
       "      <th>AARON,  JEFFERY M</th>\n",
       "      <td>POLICE OFFICER</td>\n",
       "      <td>POLICE</td>\n",
       "      <td>84450.0</td>\n",
       "    </tr>\n",
       "    <tr>\n",
       "      <th>AARON,  KARINA</th>\n",
       "      <td>POLICE OFFICER</td>\n",
       "      <td>POLICE</td>\n",
       "      <td>84450.0</td>\n",
       "    </tr>\n",
       "  </tbody>\n",
       "</table>\n",
       "</div>"
      ],
      "text/plain": [
       "                     Position Title        Department  Employee Annual Salary\n",
       "Name                                                                         \n",
       "AARON,  ELVIA J    WATER RATE TAKER  WATER MANAGEMENT                 90744.0\n",
       "AARON,  JEFFERY M    POLICE OFFICER            POLICE                 84450.0\n",
       "AARON,  KARINA       POLICE OFFICER            POLICE                 84450.0"
      ]
     },
     "execution_count": 20,
     "metadata": {},
     "output_type": "execute_result"
    }
   ],
   "source": [
    "data.set_index(keys = ['Name'], inplace = True)\n",
    "data.head(3)"
   ]
  },
  {
   "cell_type": "code",
   "execution_count": 21,
   "id": "fd2fd7c5",
   "metadata": {},
   "outputs": [],
   "source": [
    "data.index = data.index.str.strip().str.title()"
   ]
  },
  {
   "cell_type": "code",
   "execution_count": 22,
   "id": "8168ad25",
   "metadata": {},
   "outputs": [
    {
     "data": {
      "text/html": [
       "<div>\n",
       "<style scoped>\n",
       "    .dataframe tbody tr th:only-of-type {\n",
       "        vertical-align: middle;\n",
       "    }\n",
       "\n",
       "    .dataframe tbody tr th {\n",
       "        vertical-align: top;\n",
       "    }\n",
       "\n",
       "    .dataframe thead th {\n",
       "        text-align: right;\n",
       "    }\n",
       "</style>\n",
       "<table border=\"1\" class=\"dataframe\">\n",
       "  <thead>\n",
       "    <tr style=\"text-align: right;\">\n",
       "      <th></th>\n",
       "      <th>POSITION TITLE</th>\n",
       "      <th>DEPARTMENT</th>\n",
       "      <th>EMPLOYEE ANNUAL SALARY</th>\n",
       "    </tr>\n",
       "    <tr>\n",
       "      <th>Name</th>\n",
       "      <th></th>\n",
       "      <th></th>\n",
       "      <th></th>\n",
       "    </tr>\n",
       "  </thead>\n",
       "  <tbody>\n",
       "    <tr>\n",
       "      <th>Aaron,  Elvia J</th>\n",
       "      <td>WATER RATE TAKER</td>\n",
       "      <td>WATER MANAGEMENT</td>\n",
       "      <td>90744.0</td>\n",
       "    </tr>\n",
       "    <tr>\n",
       "      <th>Aaron,  Jeffery M</th>\n",
       "      <td>POLICE OFFICER</td>\n",
       "      <td>POLICE</td>\n",
       "      <td>84450.0</td>\n",
       "    </tr>\n",
       "    <tr>\n",
       "      <th>Aaron,  Karina</th>\n",
       "      <td>POLICE OFFICER</td>\n",
       "      <td>POLICE</td>\n",
       "      <td>84450.0</td>\n",
       "    </tr>\n",
       "    <tr>\n",
       "      <th>Aaron,  Kimberlei R</th>\n",
       "      <td>CHIEF CONTRACT EXPEDITER</td>\n",
       "      <td>GENERAL SERVICES</td>\n",
       "      <td>89880.0</td>\n",
       "    </tr>\n",
       "    <tr>\n",
       "      <th>Abad Jr,  Vicente M</th>\n",
       "      <td>CIVIL ENGINEER IV</td>\n",
       "      <td>WATER MANAGEMENT</td>\n",
       "      <td>106836.0</td>\n",
       "    </tr>\n",
       "  </tbody>\n",
       "</table>\n",
       "</div>"
      ],
      "text/plain": [
       "                               POSITION TITLE        DEPARTMENT  \\\n",
       "Name                                                              \n",
       "Aaron,  Elvia J              WATER RATE TAKER  WATER MANAGEMENT   \n",
       "Aaron,  Jeffery M              POLICE OFFICER            POLICE   \n",
       "Aaron,  Karina                 POLICE OFFICER            POLICE   \n",
       "Aaron,  Kimberlei R  CHIEF CONTRACT EXPEDITER  GENERAL SERVICES   \n",
       "Abad Jr,  Vicente M         CIVIL ENGINEER IV  WATER MANAGEMENT   \n",
       "\n",
       "                     EMPLOYEE ANNUAL SALARY  \n",
       "Name                                         \n",
       "Aaron,  Elvia J                     90744.0  \n",
       "Aaron,  Jeffery M                   84450.0  \n",
       "Aaron,  Karina                      84450.0  \n",
       "Aaron,  Kimberlei R                 89880.0  \n",
       "Abad Jr,  Vicente M                106836.0  "
      ]
     },
     "execution_count": 22,
     "metadata": {},
     "output_type": "execute_result"
    }
   ],
   "source": [
    "data.columns = data.columns.str.upper()\n",
    "data.head()"
   ]
  },
  {
   "cell_type": "code",
   "execution_count": null,
   "id": "e9f25d34",
   "metadata": {},
   "outputs": [],
   "source": []
  }
 ],
 "metadata": {
  "kernelspec": {
   "display_name": "Python 3 (ipykernel)",
   "language": "python",
   "name": "python3"
  },
  "language_info": {
   "codemirror_mode": {
    "name": "ipython",
    "version": 3
   },
   "file_extension": ".py",
   "mimetype": "text/x-python",
   "name": "python",
   "nbconvert_exporter": "python",
   "pygments_lexer": "ipython3",
   "version": "3.9.13"
  }
 },
 "nbformat": 4,
 "nbformat_minor": 5
}

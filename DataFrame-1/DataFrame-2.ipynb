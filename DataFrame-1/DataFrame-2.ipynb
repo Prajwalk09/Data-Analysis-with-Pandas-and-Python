{
 "cells": [
  {
   "cell_type": "markdown",
   "id": "943ea222",
   "metadata": {},
   "source": [
    "### Differences between Shared Methods"
   ]
  },
  {
   "cell_type": "code",
   "execution_count": 1,
   "id": "7cf1efd5",
   "metadata": {},
   "outputs": [],
   "source": [
    "import pandas as pd"
   ]
  },
  {
   "cell_type": "code",
   "execution_count": 2,
   "id": "6e4ff41f",
   "metadata": {},
   "outputs": [],
   "source": [
    "revenue = pd.read_csv('revenue.csv', index_col=['Date'])"
   ]
  },
  {
   "cell_type": "code",
   "execution_count": 3,
   "id": "9116db4b",
   "metadata": {},
   "outputs": [
    {
     "data": {
      "text/html": [
       "<div>\n",
       "<style scoped>\n",
       "    .dataframe tbody tr th:only-of-type {\n",
       "        vertical-align: middle;\n",
       "    }\n",
       "\n",
       "    .dataframe tbody tr th {\n",
       "        vertical-align: top;\n",
       "    }\n",
       "\n",
       "    .dataframe thead th {\n",
       "        text-align: right;\n",
       "    }\n",
       "</style>\n",
       "<table border=\"1\" class=\"dataframe\">\n",
       "  <thead>\n",
       "    <tr style=\"text-align: right;\">\n",
       "      <th></th>\n",
       "      <th>New York</th>\n",
       "      <th>Los Angeles</th>\n",
       "      <th>Miami</th>\n",
       "    </tr>\n",
       "    <tr>\n",
       "      <th>Date</th>\n",
       "      <th></th>\n",
       "      <th></th>\n",
       "      <th></th>\n",
       "    </tr>\n",
       "  </thead>\n",
       "  <tbody>\n",
       "    <tr>\n",
       "      <th>1/1/16</th>\n",
       "      <td>985</td>\n",
       "      <td>122</td>\n",
       "      <td>499</td>\n",
       "    </tr>\n",
       "    <tr>\n",
       "      <th>1/2/16</th>\n",
       "      <td>738</td>\n",
       "      <td>788</td>\n",
       "      <td>534</td>\n",
       "    </tr>\n",
       "    <tr>\n",
       "      <th>1/3/16</th>\n",
       "      <td>14</td>\n",
       "      <td>20</td>\n",
       "      <td>933</td>\n",
       "    </tr>\n",
       "  </tbody>\n",
       "</table>\n",
       "</div>"
      ],
      "text/plain": [
       "        New York  Los Angeles  Miami\n",
       "Date                                \n",
       "1/1/16       985          122    499\n",
       "1/2/16       738          788    534\n",
       "1/3/16        14           20    933"
      ]
     },
     "execution_count": 3,
     "metadata": {},
     "output_type": "execute_result"
    }
   ],
   "source": [
    "revenue.head(3)"
   ]
  },
  {
   "cell_type": "code",
   "execution_count": 4,
   "id": "519bd4c5",
   "metadata": {},
   "outputs": [],
   "source": [
    "series = pd.Series([1,2,3])"
   ]
  },
  {
   "cell_type": "code",
   "execution_count": 5,
   "id": "990083dd",
   "metadata": {},
   "outputs": [
    {
     "data": {
      "text/plain": [
       "6"
      ]
     },
     "execution_count": 5,
     "metadata": {},
     "output_type": "execute_result"
    }
   ],
   "source": [
    "series.sum()"
   ]
  },
  {
   "cell_type": "code",
   "execution_count": 6,
   "id": "fc9f90f9",
   "metadata": {},
   "outputs": [
    {
     "data": {
      "text/plain": [
       "New York       5475\n",
       "Los Angeles    5134\n",
       "Miami          5641\n",
       "dtype: int64"
      ]
     },
     "execution_count": 6,
     "metadata": {},
     "output_type": "execute_result"
    }
   ],
   "source": [
    "revenue.sum()"
   ]
  },
  {
   "cell_type": "code",
   "execution_count": 7,
   "id": "0dbfd50a",
   "metadata": {},
   "outputs": [
    {
     "data": {
      "text/plain": [
       "Date\n",
       "1/1/16     1606\n",
       "1/2/16     2060\n",
       "1/3/16      967\n",
       "1/4/16     2519\n",
       "1/5/16      438\n",
       "1/6/16     1935\n",
       "1/7/16     1234\n",
       "1/8/16     2313\n",
       "1/9/16     2623\n",
       "1/10/16     555\n",
       "dtype: int64"
      ]
     },
     "execution_count": 7,
     "metadata": {},
     "output_type": "execute_result"
    }
   ],
   "source": [
    "revenue.sum(axis = \"columns\")"
   ]
  },
  {
   "cell_type": "code",
   "execution_count": 8,
   "id": "905f1f94",
   "metadata": {},
   "outputs": [
    {
     "data": {
      "text/plain": [
       "New York       5475\n",
       "Los Angeles    5134\n",
       "Miami          5641\n",
       "dtype: int64"
      ]
     },
     "execution_count": 8,
     "metadata": {},
     "output_type": "execute_result"
    }
   ],
   "source": [
    "revenue.sum(axis = \"index\")"
   ]
  },
  {
   "cell_type": "markdown",
   "id": "a018da8e",
   "metadata": {},
   "source": [
    "### Selecting One Column from a DataFrame"
   ]
  },
  {
   "cell_type": "code",
   "execution_count": 10,
   "id": "62c55f8c",
   "metadata": {},
   "outputs": [
    {
     "data": {
      "text/html": [
       "<div>\n",
       "<style scoped>\n",
       "    .dataframe tbody tr th:only-of-type {\n",
       "        vertical-align: middle;\n",
       "    }\n",
       "\n",
       "    .dataframe tbody tr th {\n",
       "        vertical-align: top;\n",
       "    }\n",
       "\n",
       "    .dataframe thead th {\n",
       "        text-align: right;\n",
       "    }\n",
       "</style>\n",
       "<table border=\"1\" class=\"dataframe\">\n",
       "  <thead>\n",
       "    <tr style=\"text-align: right;\">\n",
       "      <th></th>\n",
       "      <th>Name</th>\n",
       "      <th>Team</th>\n",
       "      <th>Number</th>\n",
       "      <th>Position</th>\n",
       "      <th>Age</th>\n",
       "      <th>Height</th>\n",
       "      <th>Weight</th>\n",
       "      <th>College</th>\n",
       "      <th>Salary</th>\n",
       "    </tr>\n",
       "  </thead>\n",
       "  <tbody>\n",
       "    <tr>\n",
       "      <th>0</th>\n",
       "      <td>Avery Bradley</td>\n",
       "      <td>Boston Celtics</td>\n",
       "      <td>0.0</td>\n",
       "      <td>PG</td>\n",
       "      <td>25.0</td>\n",
       "      <td>6-2</td>\n",
       "      <td>180.0</td>\n",
       "      <td>Texas</td>\n",
       "      <td>7730337.0</td>\n",
       "    </tr>\n",
       "    <tr>\n",
       "      <th>1</th>\n",
       "      <td>Jae Crowder</td>\n",
       "      <td>Boston Celtics</td>\n",
       "      <td>99.0</td>\n",
       "      <td>SF</td>\n",
       "      <td>25.0</td>\n",
       "      <td>6-6</td>\n",
       "      <td>235.0</td>\n",
       "      <td>Marquette</td>\n",
       "      <td>6796117.0</td>\n",
       "    </tr>\n",
       "    <tr>\n",
       "      <th>2</th>\n",
       "      <td>John Holland</td>\n",
       "      <td>Boston Celtics</td>\n",
       "      <td>30.0</td>\n",
       "      <td>SG</td>\n",
       "      <td>27.0</td>\n",
       "      <td>6-5</td>\n",
       "      <td>205.0</td>\n",
       "      <td>Boston University</td>\n",
       "      <td>NaN</td>\n",
       "    </tr>\n",
       "    <tr>\n",
       "      <th>3</th>\n",
       "      <td>R.J. Hunter</td>\n",
       "      <td>Boston Celtics</td>\n",
       "      <td>28.0</td>\n",
       "      <td>SG</td>\n",
       "      <td>22.0</td>\n",
       "      <td>6-5</td>\n",
       "      <td>185.0</td>\n",
       "      <td>Georgia State</td>\n",
       "      <td>1148640.0</td>\n",
       "    </tr>\n",
       "    <tr>\n",
       "      <th>4</th>\n",
       "      <td>Jonas Jerebko</td>\n",
       "      <td>Boston Celtics</td>\n",
       "      <td>8.0</td>\n",
       "      <td>PF</td>\n",
       "      <td>29.0</td>\n",
       "      <td>6-10</td>\n",
       "      <td>231.0</td>\n",
       "      <td>NaN</td>\n",
       "      <td>5000000.0</td>\n",
       "    </tr>\n",
       "  </tbody>\n",
       "</table>\n",
       "</div>"
      ],
      "text/plain": [
       "            Name            Team  Number Position   Age Height  Weight  \\\n",
       "0  Avery Bradley  Boston Celtics     0.0       PG  25.0    6-2   180.0   \n",
       "1    Jae Crowder  Boston Celtics    99.0       SF  25.0    6-6   235.0   \n",
       "2   John Holland  Boston Celtics    30.0       SG  27.0    6-5   205.0   \n",
       "3    R.J. Hunter  Boston Celtics    28.0       SG  22.0    6-5   185.0   \n",
       "4  Jonas Jerebko  Boston Celtics     8.0       PF  29.0   6-10   231.0   \n",
       "\n",
       "             College     Salary  \n",
       "0              Texas  7730337.0  \n",
       "1          Marquette  6796117.0  \n",
       "2  Boston University        NaN  \n",
       "3      Georgia State  1148640.0  \n",
       "4                NaN  5000000.0  "
      ]
     },
     "execution_count": 10,
     "metadata": {},
     "output_type": "execute_result"
    }
   ],
   "source": [
    "nba = pd.read_csv('nba.csv')\n",
    "nba.head()"
   ]
  },
  {
   "cell_type": "code",
   "execution_count": 13,
   "id": "44b9235b",
   "metadata": {},
   "outputs": [
    {
     "data": {
      "text/plain": [
       "0      Boston Celtics\n",
       "1      Boston Celtics\n",
       "2      Boston Celtics\n",
       "3      Boston Celtics\n",
       "4      Boston Celtics\n",
       "            ...      \n",
       "453         Utah Jazz\n",
       "454         Utah Jazz\n",
       "455         Utah Jazz\n",
       "456         Utah Jazz\n",
       "457               NaN\n",
       "Name: Team, Length: 458, dtype: object"
      ]
     },
     "execution_count": 13,
     "metadata": {},
     "output_type": "execute_result"
    }
   ],
   "source": [
    "nba.Team"
   ]
  },
  {
   "cell_type": "code",
   "execution_count": 25,
   "id": "08534d1c",
   "metadata": {
    "collapsed": true
   },
   "outputs": [
    {
     "name": "stdout",
     "output_type": "stream",
     "text": [
      "Number column from the DataFrame\n",
      "0       0.0\n",
      "1      99.0\n",
      "2      30.0\n",
      "3      28.0\n",
      "4       8.0\n",
      "       ... \n",
      "453     8.0\n",
      "454    25.0\n",
      "455    21.0\n",
      "456    24.0\n",
      "457     NaN\n",
      "Name: Number, Length: 458, dtype: float64\n",
      "\n",
      "Salary column from the DataFrame\n",
      "0      7730337.0\n",
      "1      6796117.0\n",
      "2            NaN\n",
      "3      1148640.0\n",
      "4      5000000.0\n",
      "         ...    \n",
      "453    2433333.0\n",
      "454     900000.0\n",
      "455    2900000.0\n",
      "456     947276.0\n",
      "457          NaN\n",
      "Name: Salary, Length: 458, dtype: float64\n"
     ]
    }
   ],
   "source": [
    "print(f\"Number column from the DataFrame\\n{nba.Number}\\n\")\n",
    "print(f\"Salary column from the DataFrame\\n{nba.Salary}\")"
   ]
  },
  {
   "cell_type": "code",
   "execution_count": 29,
   "id": "e37c580a",
   "metadata": {},
   "outputs": [
    {
     "data": {
      "text/plain": [
       "0      Avery Bradley\n",
       "1        Jae Crowder\n",
       "2       John Holland\n",
       "3        R.J. Hunter\n",
       "4      Jonas Jerebko\n",
       "           ...      \n",
       "453     Shelvin Mack\n",
       "454        Raul Neto\n",
       "455     Tibor Pleiss\n",
       "456      Jeff Withey\n",
       "457              NaN\n",
       "Name: Name, Length: 458, dtype: object"
      ]
     },
     "execution_count": 29,
     "metadata": {},
     "output_type": "execute_result"
    }
   ],
   "source": [
    "nba['Name']"
   ]
  },
  {
   "cell_type": "code",
   "execution_count": 39,
   "id": "7b05bc01",
   "metadata": {},
   "outputs": [
    {
     "data": {
      "text/plain": [
       "0    Avery Bradley\n",
       "1      Jae Crowder\n",
       "2     John Holland\n",
       "3      R.J. Hunter\n",
       "4    Jonas Jerebko\n",
       "Name: Name, dtype: object"
      ]
     },
     "execution_count": 39,
     "metadata": {},
     "output_type": "execute_result"
    }
   ],
   "source": [
    "nba['Name'].head()"
   ]
  }
 ],
 "metadata": {
  "kernelspec": {
   "display_name": "Python 3 (ipykernel)",
   "language": "python",
   "name": "python3"
  },
  "language_info": {
   "codemirror_mode": {
    "name": "ipython",
    "version": 3
   },
   "file_extension": ".py",
   "mimetype": "text/x-python",
   "name": "python",
   "nbconvert_exporter": "python",
   "pygments_lexer": "ipython3",
   "version": "3.9.13"
  }
 },
 "nbformat": 4,
 "nbformat_minor": 5
}

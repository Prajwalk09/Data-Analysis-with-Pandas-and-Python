{
 "cells": [
  {
   "cell_type": "code",
   "execution_count": 2,
   "id": "ddf9c1dd",
   "metadata": {},
   "outputs": [
    {
     "data": {
      "text/plain": [
       "[1, 2, 3, 4]"
      ]
     },
     "execution_count": 2,
     "metadata": {},
     "output_type": "execute_result"
    }
   ],
   "source": [
    "[1,2,3,4]"
   ]
  },
  {
   "cell_type": "code",
   "execution_count": 3,
   "id": "7e4bb608",
   "metadata": {},
   "outputs": [],
   "source": [
    "lst = []"
   ]
  },
  {
   "cell_type": "code",
   "execution_count": 4,
   "id": "fc1744d4",
   "metadata": {},
   "outputs": [
    {
     "name": "stdout",
     "output_type": "stream",
     "text": [
      "10\n",
      "<class 'list'>\n"
     ]
    }
   ],
   "source": [
    "lst = [x for x in range(10)]\n",
    "print(len(lst))\n",
    "print(type(lst))"
   ]
  },
  {
   "cell_type": "code",
   "execution_count": 5,
   "id": "4e50b955",
   "metadata": {},
   "outputs": [],
   "source": [
    "presidents = ['Washington', 'Jefferson']"
   ]
  },
  {
   "cell_type": "code",
   "execution_count": 6,
   "id": "df23f9ea",
   "metadata": {},
   "outputs": [
    {
     "data": {
      "text/plain": [
       "['Washington', 'Jefferson', 'Madison']"
      ]
     },
     "execution_count": 6,
     "metadata": {},
     "output_type": "execute_result"
    }
   ],
   "source": [
    "presidents.append('Madison')\n",
    "presidents"
   ]
  },
  {
   "cell_type": "code",
   "execution_count": 14,
   "id": "247d9a8d",
   "metadata": {},
   "outputs": [],
   "source": [
    "pop_corn = ['Salted' , 'Unsalted', 'Caramel']"
   ]
  },
  {
   "cell_type": "code",
   "execution_count": 15,
   "id": "dcd2a0d1",
   "metadata": {},
   "outputs": [
    {
     "data": {
      "text/plain": [
       "'Caramel'"
      ]
     },
     "execution_count": 15,
     "metadata": {},
     "output_type": "execute_result"
    }
   ],
   "source": [
    "pop_corn.pop()"
   ]
  },
  {
   "cell_type": "code",
   "execution_count": 13,
   "id": "74263b3e",
   "metadata": {},
   "outputs": [
    {
     "data": {
      "text/plain": [
       "['Salted']"
      ]
     },
     "execution_count": 13,
     "metadata": {},
     "output_type": "execute_result"
    }
   ],
   "source": [
    "pop_corn.remove('Unsalted')\n",
    "pop_corn"
   ]
  },
  {
   "cell_type": "code",
   "execution_count": 27,
   "id": "0c7faef9",
   "metadata": {},
   "outputs": [
    {
     "data": {
      "text/plain": [
       "['Salted', 'Unsalted', 'Salted', 'Caramel']"
      ]
     },
     "execution_count": 27,
     "metadata": {},
     "output_type": "execute_result"
    }
   ],
   "source": [
    "pop_corn = ['Salted', 'Unsalted', 'Salted', 'Caramel']\n",
    "pop_corn"
   ]
  },
  {
   "cell_type": "code",
   "execution_count": 17,
   "id": "d766e0eb",
   "metadata": {},
   "outputs": [
    {
     "data": {
      "text/plain": [
       "True"
      ]
     },
     "execution_count": 17,
     "metadata": {},
     "output_type": "execute_result"
    }
   ],
   "source": [
    "'Caramel' in pop_corn"
   ]
  },
  {
   "cell_type": "code",
   "execution_count": 19,
   "id": "899d17c3",
   "metadata": {},
   "outputs": [
    {
     "data": {
      "text/plain": [
       "True"
      ]
     },
     "execution_count": 19,
     "metadata": {},
     "output_type": "execute_result"
    }
   ],
   "source": [
    "'Sweet' not in pop_corn"
   ]
  },
  {
   "cell_type": "code",
   "execution_count": 33,
   "id": "86dc9b9b",
   "metadata": {},
   "outputs": [
    {
     "data": {
      "text/plain": [
       "['Caramel', 'Salted', 'Unsalted', 'Salted']"
      ]
     },
     "execution_count": 33,
     "metadata": {},
     "output_type": "execute_result"
    }
   ],
   "source": [
    "pop_corn[::-1]"
   ]
  },
  {
   "cell_type": "code",
   "execution_count": 26,
   "id": "b3176ac6",
   "metadata": {},
   "outputs": [
    {
     "data": {
      "text/plain": [
       "['Unsalted', 'Salted', 'Caramel']"
      ]
     },
     "execution_count": 26,
     "metadata": {},
     "output_type": "execute_result"
    }
   ],
   "source": [
    "pop_corn"
   ]
  },
  {
   "cell_type": "code",
   "execution_count": 34,
   "id": "2861dbbd",
   "metadata": {},
   "outputs": [
    {
     "data": {
      "text/plain": [
       "['Salted', 'Unsalted']"
      ]
     },
     "execution_count": 34,
     "metadata": {},
     "output_type": "execute_result"
    }
   ],
   "source": [
    "pop_corn[:-2]"
   ]
  },
  {
   "cell_type": "code",
   "execution_count": 44,
   "id": "15de1234",
   "metadata": {},
   "outputs": [
    {
     "name": "stdout",
     "output_type": "stream",
     "text": [
      "dict_keys(['Pizza', 'Pasta', 'Burger', 'Meal'])\n",
      "dict_values([100, 80, 60, 125])\n"
     ]
    }
   ],
   "source": [
    "menu = {\n",
    "    \"Pizza\":100, \n",
    "    \"Pasta\":80,\n",
    "    \"Burger\":60, \n",
    "    \"Meal\":125,\n",
    "}\n",
    "print(menu.keys())\n",
    "print(menu.values())\n"
   ]
  },
  {
   "cell_type": "code",
   "execution_count": 46,
   "id": "38f25e42",
   "metadata": {},
   "outputs": [
    {
     "data": {
      "text/plain": [
       "4"
      ]
     },
     "execution_count": 46,
     "metadata": {},
     "output_type": "execute_result"
    }
   ],
   "source": [
    "len(menu)"
   ]
  },
  {
   "cell_type": "code",
   "execution_count": 48,
   "id": "f892ce6d",
   "metadata": {},
   "outputs": [
    {
     "data": {
      "text/plain": [
       "{'Pizza': 100, 'Pasta': 80, 'Burger': 60, 'Meal': 125, 'Lunch': 95}"
      ]
     },
     "execution_count": 48,
     "metadata": {},
     "output_type": "execute_result"
    }
   ],
   "source": [
    "menu['Lunch'] = 95\n",
    "menu"
   ]
  },
  {
   "cell_type": "code",
   "execution_count": 49,
   "id": "9a883dab",
   "metadata": {},
   "outputs": [
    {
     "data": {
      "text/plain": [
       "{'Pizza': 0, 'Pasta': 80, 'Burger': 60, 'Meal': 125, 'Lunch': 95}"
      ]
     },
     "execution_count": 49,
     "metadata": {},
     "output_type": "execute_result"
    }
   ],
   "source": [
    "menu['Pizza'] = 0\n",
    "menu"
   ]
  },
  {
   "cell_type": "code",
   "execution_count": 51,
   "id": "7406f1a8",
   "metadata": {},
   "outputs": [
    {
     "data": {
      "text/plain": [
       "0"
      ]
     },
     "execution_count": 51,
     "metadata": {},
     "output_type": "execute_result"
    }
   ],
   "source": [
    "menu.pop(\"Pizza\")"
   ]
  },
  {
   "cell_type": "code",
   "execution_count": 52,
   "id": "4b4a3f9d",
   "metadata": {},
   "outputs": [
    {
     "data": {
      "text/plain": [
       "{'Pasta': 80, 'Burger': 60, 'Meal': 125, 'Lunch': 95}"
      ]
     },
     "execution_count": 52,
     "metadata": {},
     "output_type": "execute_result"
    }
   ],
   "source": [
    "menu"
   ]
  },
  {
   "cell_type": "code",
   "execution_count": 57,
   "id": "5e805c8b",
   "metadata": {},
   "outputs": [
    {
     "data": {
      "text/plain": [
       "True"
      ]
     },
     "execution_count": 57,
     "metadata": {},
     "output_type": "execute_result"
    }
   ],
   "source": [
    "\"Lunch\" in menu"
   ]
  },
  {
   "cell_type": "code",
   "execution_count": 58,
   "id": "b5db284b",
   "metadata": {},
   "outputs": [
    {
     "data": {
      "text/plain": [
       "False"
      ]
     },
     "execution_count": 58,
     "metadata": {},
     "output_type": "execute_result"
    }
   ],
   "source": [
    "\"Lunch\" not in menu"
   ]
  },
  {
   "cell_type": "code",
   "execution_count": 61,
   "id": "695266ae",
   "metadata": {},
   "outputs": [
    {
     "data": {
      "text/plain": [
       "True"
      ]
     },
     "execution_count": 61,
     "metadata": {},
     "output_type": "execute_result"
    }
   ],
   "source": [
    "80 in menu.values()"
   ]
  },
  {
   "cell_type": "code",
   "execution_count": null,
   "id": "68f9c76b",
   "metadata": {},
   "outputs": [],
   "source": []
  }
 ],
 "metadata": {
  "kernelspec": {
   "display_name": "Python 3 (ipykernel)",
   "language": "python",
   "name": "python3"
  },
  "language_info": {
   "codemirror_mode": {
    "name": "ipython",
    "version": 3
   },
   "file_extension": ".py",
   "mimetype": "text/x-python",
   "name": "python",
   "nbconvert_exporter": "python",
   "pygments_lexer": "ipython3",
   "version": "3.9.13"
  }
 },
 "nbformat": 4,
 "nbformat_minor": 5
}

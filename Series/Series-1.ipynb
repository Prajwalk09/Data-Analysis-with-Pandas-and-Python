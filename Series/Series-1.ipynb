{
 "cells": [
  {
   "cell_type": "markdown",
   "id": "2ac4af82",
   "metadata": {},
   "source": [
    "### Create a Series from a Python List"
   ]
  },
  {
   "cell_type": "code",
   "execution_count": 1,
   "id": "834909b3",
   "metadata": {},
   "outputs": [],
   "source": [
    "import pandas as pd"
   ]
  },
  {
   "cell_type": "code",
   "execution_count": 2,
   "id": "11f7d929",
   "metadata": {},
   "outputs": [
    {
     "data": {
      "text/plain": [
       "0     chocolate\n",
       "1       vanilla\n",
       "2    starwberry\n",
       "3    rum raisin\n",
       "dtype: object"
      ]
     },
     "execution_count": 2,
     "metadata": {},
     "output_type": "execute_result"
    }
   ],
   "source": [
    "ice_cream = ['chocolate', 'vanilla', 'starwberry', 'rum raisin']\n",
    "index = [2,3,4,5]\n",
    "pd.Series(ice_cream)"
   ]
  },
  {
   "cell_type": "code",
   "execution_count": 3,
   "id": "2440ec6a",
   "metadata": {},
   "outputs": [
    {
     "data": {
      "text/plain": [
       "0    56\n",
       "1    45\n",
       "2    98\n",
       "3    10\n",
       "4    23\n",
       "5    87\n",
       "dtype: int64"
      ]
     },
     "execution_count": 3,
     "metadata": {},
     "output_type": "execute_result"
    }
   ],
   "source": [
    "lottery = [56,45,98,10,23,87]\n",
    "pd.Series(lottery)"
   ]
  },
  {
   "cell_type": "code",
   "execution_count": 4,
   "id": "a901d0b7",
   "metadata": {},
   "outputs": [
    {
     "data": {
      "text/plain": [
       "0     True\n",
       "1    False\n",
       "2     True\n",
       "3     True\n",
       "4    False\n",
       "dtype: bool"
      ]
     },
     "execution_count": 4,
     "metadata": {},
     "output_type": "execute_result"
    }
   ],
   "source": [
    "registrations = [True, False, True, True, False]\n",
    "pd.Series(registrations)"
   ]
  },
  {
   "cell_type": "markdown",
   "id": "04985357",
   "metadata": {},
   "source": [
    "### Creating a Series from a Dictionary"
   ]
  },
  {
   "cell_type": "code",
   "execution_count": 5,
   "id": "ed5af9a2",
   "metadata": {},
   "outputs": [
    {
     "data": {
      "text/plain": [
       "Lion       Animal\n",
       "Banana    A fruit\n",
       "Blue        Color\n",
       "dtype: object"
      ]
     },
     "execution_count": 5,
     "metadata": {},
     "output_type": "execute_result"
    }
   ],
   "source": [
    "webster = {\n",
    "    \"Lion\": \"Animal\",\n",
    "    \"Banana\": \"A fruit\",\n",
    "    \"Blue\": \"Color\"\n",
    "}\n",
    "pd.Series(webster)"
   ]
  },
  {
   "cell_type": "markdown",
   "id": "5ec7d232",
   "metadata": {},
   "source": [
    "### Attributes and Methods"
   ]
  },
  {
   "cell_type": "code",
   "execution_count": 6,
   "id": "c9c578bf",
   "metadata": {},
   "outputs": [],
   "source": [
    "about_me = ['Hardworking', 'Efficient', 'Talented', 'Passionate']\n",
    "Series = pd.Series(about_me)"
   ]
  },
  {
   "cell_type": "code",
   "execution_count": 7,
   "id": "2bd7e8fb",
   "metadata": {},
   "outputs": [
    {
     "name": "stdout",
     "output_type": "stream",
     "text": [
      "['Hardworking' 'Efficient' 'Talented' 'Passionate']\n",
      "RangeIndex(start=0, stop=4, step=1)\n"
     ]
    }
   ],
   "source": [
    "print(Series.values)\n",
    "print(Series.index)"
   ]
  },
  {
   "cell_type": "code",
   "execution_count": 8,
   "id": "0ee0fb16",
   "metadata": {},
   "outputs": [
    {
     "data": {
      "text/plain": [
       "dtype('O')"
      ]
     },
     "execution_count": 8,
     "metadata": {},
     "output_type": "execute_result"
    }
   ],
   "source": [
    "Series.dtype"
   ]
  },
  {
   "cell_type": "code",
   "execution_count": 9,
   "id": "ca79caf0",
   "metadata": {},
   "outputs": [],
   "source": [
    "prices = [3.14, 1.99, 2.45]\n",
    "price_series = pd.Series(prices)"
   ]
  },
  {
   "cell_type": "code",
   "execution_count": 10,
   "id": "a156deba",
   "metadata": {},
   "outputs": [
    {
     "data": {
      "text/plain": [
       "7.58"
      ]
     },
     "execution_count": 10,
     "metadata": {},
     "output_type": "execute_result"
    }
   ],
   "source": [
    "price_series.sum()"
   ]
  },
  {
   "cell_type": "code",
   "execution_count": 11,
   "id": "d1626146",
   "metadata": {},
   "outputs": [
    {
     "data": {
      "text/plain": [
       "3"
      ]
     },
     "execution_count": 11,
     "metadata": {},
     "output_type": "execute_result"
    }
   ],
   "source": [
    "price_series.count()"
   ]
  },
  {
   "cell_type": "code",
   "execution_count": 12,
   "id": "52ce39b8",
   "metadata": {},
   "outputs": [
    {
     "data": {
      "text/plain": [
       "15.309070000000002"
      ]
     },
     "execution_count": 12,
     "metadata": {},
     "output_type": "execute_result"
    }
   ],
   "source": [
    "price_series.product()"
   ]
  },
  {
   "cell_type": "code",
   "execution_count": 13,
   "id": "8cae0c0b",
   "metadata": {},
   "outputs": [
    {
     "data": {
      "text/plain": [
       "2.526666666666667"
      ]
     },
     "execution_count": 13,
     "metadata": {},
     "output_type": "execute_result"
    }
   ],
   "source": [
    "price_series.mean()"
   ]
  },
  {
   "cell_type": "code",
   "execution_count": 14,
   "id": "e22afdb9",
   "metadata": {},
   "outputs": [
    {
     "data": {
      "text/plain": [
       "2.45"
      ]
     },
     "execution_count": 14,
     "metadata": {},
     "output_type": "execute_result"
    }
   ],
   "source": [
    "price_series.median()"
   ]
  },
  {
   "cell_type": "code",
   "execution_count": 15,
   "id": "580feffb",
   "metadata": {},
   "outputs": [
    {
     "data": {
      "text/plain": [
       "0    1.99\n",
       "1    2.45\n",
       "2    3.14\n",
       "dtype: float64"
      ]
     },
     "execution_count": 15,
     "metadata": {},
     "output_type": "execute_result"
    }
   ],
   "source": [
    "price_series.mode()"
   ]
  },
  {
   "cell_type": "markdown",
   "id": "7684f9a5",
   "metadata": {},
   "source": [
    "### Parameters and Arguments"
   ]
  },
  {
   "cell_type": "code",
   "execution_count": 16,
   "id": "e211fd2d",
   "metadata": {},
   "outputs": [
    {
     "data": {
      "text/plain": [
       "Monday        Apple\n",
       "Tuesday      Orange\n",
       "Wednesday    Banana\n",
       "Thursday       Kiwi\n",
       "Friday         Lime\n",
       "dtype: object"
      ]
     },
     "execution_count": 16,
     "metadata": {},
     "output_type": "execute_result"
    }
   ],
   "source": [
    "fruits = ['Apple', 'Orange', 'Banana', 'Kiwi', 'Lime']\n",
    "weekdays = ['Monday', 'Tuesday', 'Wednesday', 'Thursday', 'Friday']\n",
    "\n",
    "pd.Series(data = fruits, index = weekdays)"
   ]
  },
  {
   "cell_type": "code",
   "execution_count": 17,
   "id": "01fa8dd3",
   "metadata": {},
   "outputs": [
    {
     "data": {
      "text/plain": [
       "Monday            Apple\n",
       "Tuesday          Orange\n",
       "Wednesday        Banana\n",
       "Thursday           Kiwi\n",
       "Friday             Lime\n",
       "Monday       Watermelon\n",
       "dtype: object"
      ]
     },
     "execution_count": 17,
     "metadata": {},
     "output_type": "execute_result"
    }
   ],
   "source": [
    "fruits = ['Apple', 'Orange', 'Banana', 'Kiwi', 'Lime', 'Watermelon']\n",
    "weekdays = ['Monday', 'Tuesday', 'Wednesday', 'Thursday', 'Friday', 'Monday']\n",
    "\n",
    "pd.Series(data = fruits, index = weekdays)"
   ]
  }
 ],
 "metadata": {
  "kernelspec": {
   "display_name": "Python 3 (ipykernel)",
   "language": "python",
   "name": "python3"
  },
  "language_info": {
   "codemirror_mode": {
    "name": "ipython",
    "version": 3
   },
   "file_extension": ".py",
   "mimetype": "text/x-python",
   "name": "python",
   "nbconvert_exporter": "python",
   "pygments_lexer": "ipython3",
   "version": "3.9.13"
  }
 },
 "nbformat": 4,
 "nbformat_minor": 5
}

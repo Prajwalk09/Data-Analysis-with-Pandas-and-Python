{
 "cells": [
  {
   "cell_type": "markdown",
   "id": "c2596778",
   "metadata": {},
   "source": [
    "### Inplace"
   ]
  },
  {
   "cell_type": "code",
   "execution_count": 1,
   "id": "33799ec5",
   "metadata": {},
   "outputs": [],
   "source": [
    "import pandas as pd\n",
    "import warnings\n",
    "\n",
    "warnings.filterwarnings('ignore')"
   ]
  },
  {
   "cell_type": "code",
   "execution_count": 2,
   "id": "83f4622b",
   "metadata": {},
   "outputs": [],
   "source": [
    "pokemon = pd.read_csv('pokemon.csv', usecols = ['Pokemon'], squeeze = True)\n",
    "google = pd.read_csv('google_stock_price.csv', squeeze = True)"
   ]
  },
  {
   "cell_type": "code",
   "execution_count": 3,
   "id": "fc95cf6f",
   "metadata": {},
   "outputs": [
    {
     "data": {
      "text/plain": [
       "0    50.12\n",
       "1    54.10\n",
       "2    54.65\n",
       "3    52.38\n",
       "4    52.95\n",
       "Name: Stock Price, dtype: float64"
      ]
     },
     "execution_count": 3,
     "metadata": {},
     "output_type": "execute_result"
    }
   ],
   "source": [
    "google.head()"
   ]
  },
  {
   "cell_type": "code",
   "execution_count": 4,
   "id": "295a2ccb",
   "metadata": {},
   "outputs": [
    {
     "data": {
      "text/plain": [
       "3011    782.22\n",
       "2859    776.60\n",
       "3009    773.18\n",
       "3007    772.88\n",
       "3010    771.61\n",
       "Name: Stock Price, dtype: float64"
      ]
     },
     "execution_count": 4,
     "metadata": {},
     "output_type": "execute_result"
    }
   ],
   "source": [
    "google.sort_values(ascending = False, inplace = True)\n",
    "google.head()"
   ]
  },
  {
   "cell_type": "markdown",
   "id": "91ef5762",
   "metadata": {},
   "source": [
    "### Sort Index"
   ]
  },
  {
   "cell_type": "code",
   "execution_count": 5,
   "id": "63f5c699",
   "metadata": {},
   "outputs": [
    {
     "data": {
      "text/plain": [
       "717     Zygarde\n",
       "633    Zweilous\n",
       "40        Zubat\n",
       "Name: Pokemon, dtype: object"
      ]
     },
     "execution_count": 5,
     "metadata": {},
     "output_type": "execute_result"
    }
   ],
   "source": [
    "pokemon.sort_values(ascending = False, inplace = True)\n",
    "pokemon.head(3)"
   ]
  },
  {
   "cell_type": "code",
   "execution_count": 6,
   "id": "047430c1",
   "metadata": {},
   "outputs": [
    {
     "data": {
      "text/plain": [
       "0    Bulbasaur\n",
       "1      Ivysaur\n",
       "2     Venusaur\n",
       "Name: Pokemon, dtype: object"
      ]
     },
     "execution_count": 6,
     "metadata": {},
     "output_type": "execute_result"
    }
   ],
   "source": [
    "pokemon.sort_index(ascending = True, inplace = True)\n",
    "pokemon.head(3)"
   ]
  },
  {
   "cell_type": "markdown",
   "id": "e0aa9c7e",
   "metadata": {},
   "source": [
    "### In keyword"
   ]
  },
  {
   "cell_type": "code",
   "execution_count": 7,
   "id": "f552fe92",
   "metadata": {},
   "outputs": [
    {
     "data": {
      "text/plain": [
       "True"
      ]
     },
     "execution_count": 7,
     "metadata": {},
     "output_type": "execute_result"
    }
   ],
   "source": [
    "4 in [1,2,3,4,5]"
   ]
  },
  {
   "cell_type": "code",
   "execution_count": 8,
   "id": "4c6ebcec",
   "metadata": {},
   "outputs": [
    {
     "data": {
      "text/plain": [
       "0    Bulbasaur\n",
       "1      Ivysaur\n",
       "2     Venusaur\n",
       "Name: Pokemon, dtype: object"
      ]
     },
     "execution_count": 8,
     "metadata": {},
     "output_type": "execute_result"
    }
   ],
   "source": [
    "pokemon.head(3)"
   ]
  },
  {
   "cell_type": "code",
   "execution_count": 9,
   "id": "bd6016c1",
   "metadata": {},
   "outputs": [
    {
     "data": {
      "text/plain": [
       "False"
      ]
     },
     "execution_count": 9,
     "metadata": {},
     "output_type": "execute_result"
    }
   ],
   "source": [
    "\"Bulbasaur\" in pokemon"
   ]
  },
  {
   "cell_type": "code",
   "execution_count": 10,
   "id": "07e744e0",
   "metadata": {},
   "outputs": [
    {
     "name": "stdout",
     "output_type": "stream",
     "text": [
      "True\n",
      "True\n"
     ]
    }
   ],
   "source": [
    "print(\"Bulbasaur\" in pokemon.values)\n",
    "print(\"Pikachu\" in pokemon.values)"
   ]
  },
  {
   "cell_type": "code",
   "execution_count": 11,
   "id": "58a926a4",
   "metadata": {},
   "outputs": [
    {
     "name": "stdout",
     "output_type": "stream",
     "text": [
      "True\n",
      "True\n"
     ]
    }
   ],
   "source": [
    "print(100 in pokemon)\n",
    "print(100 in pokemon.index)"
   ]
  },
  {
   "cell_type": "markdown",
   "id": "0b00e67b",
   "metadata": {},
   "source": [
    "### Exteact Values by Position"
   ]
  },
  {
   "cell_type": "code",
   "execution_count": 12,
   "id": "66c694d4",
   "metadata": {},
   "outputs": [],
   "source": [
    "pokemon = pd.read_csv('pokemon.csv', usecols = ['Pokemon'], squeeze = True)\n",
    "google = pd.read_csv('google_stock_price.csv', squeeze = True)"
   ]
  },
  {
   "cell_type": "code",
   "execution_count": 13,
   "id": "34a8dbdb",
   "metadata": {},
   "outputs": [
    {
     "data": {
      "text/plain": [
       "0    Bulbasaur\n",
       "1      Ivysaur\n",
       "2     Venusaur\n",
       "Name: Pokemon, dtype: object"
      ]
     },
     "execution_count": 13,
     "metadata": {},
     "output_type": "execute_result"
    }
   ],
   "source": [
    "pokemon.head(3)"
   ]
  },
  {
   "cell_type": "code",
   "execution_count": 28,
   "id": "96f6f247",
   "metadata": {},
   "outputs": [
    {
     "name": "stdout",
     "output_type": "stream",
     "text": [
      "Metapod\n",
      "10    Metapod\n",
      "20    Spearow\n",
      "Name: Pokemon, dtype: object\n"
     ]
    }
   ],
   "source": [
    "print(pokemon[10])\n",
    "print(pokemon[[10,20]])"
   ]
  },
  {
   "cell_type": "code",
   "execution_count": 30,
   "id": "5db8a15f",
   "metadata": {},
   "outputs": [
    {
     "name": "stdout",
     "output_type": "stream",
     "text": [
      "0     Bulbasaur\n",
      "1       Ivysaur\n",
      "2      Venusaur\n",
      "3    Charmander\n",
      "4    Charmeleon\n",
      "5     Charizard\n",
      "6      Squirtle\n",
      "7     Wartortle\n",
      "8     Blastoise\n",
      "9      Caterpie\n",
      "Name: Pokemon, dtype: object\n"
     ]
    }
   ],
   "source": [
    "print(pokemon[0:10])"
   ]
  },
  {
   "cell_type": "code",
   "execution_count": null,
   "id": "d9dea5a4",
   "metadata": {},
   "outputs": [],
   "source": []
  }
 ],
 "metadata": {
  "kernelspec": {
   "display_name": "Python 3 (ipykernel)",
   "language": "python",
   "name": "python3"
  },
  "language_info": {
   "codemirror_mode": {
    "name": "ipython",
    "version": 3
   },
   "file_extension": ".py",
   "mimetype": "text/x-python",
   "name": "python",
   "nbconvert_exporter": "python",
   "pygments_lexer": "ipython3",
   "version": "3.9.13"
  }
 },
 "nbformat": 4,
 "nbformat_minor": 5
}

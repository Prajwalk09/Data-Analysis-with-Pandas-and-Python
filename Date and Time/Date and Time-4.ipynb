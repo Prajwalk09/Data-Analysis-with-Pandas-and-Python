{
 "cells": [
  {
   "cell_type": "markdown",
   "id": "9fea8391",
   "metadata": {},
   "source": [
    "### The TimeDelta Object"
   ]
  },
  {
   "cell_type": "code",
   "execution_count": 1,
   "id": "9f7a8ad0",
   "metadata": {},
   "outputs": [],
   "source": [
    "import pandas as pd\n",
    "import datetime as dt"
   ]
  },
  {
   "cell_type": "code",
   "execution_count": 2,
   "id": "edc57484",
   "metadata": {},
   "outputs": [
    {
     "data": {
      "text/plain": [
       "(Timestamp('2020-03-31 16:35:16'), Timestamp('2020-03-20 02:15:49'))"
      ]
     },
     "execution_count": 2,
     "metadata": {},
     "output_type": "execute_result"
    }
   ],
   "source": [
    "time_a = pd.Timestamp('2020-03-31 4:35:16 PM')\n",
    "time_b = pd.Timestamp('2020-03-20 02:15:49 AM')\n",
    "\n",
    "time_a, time_b"
   ]
  },
  {
   "cell_type": "code",
   "execution_count": 3,
   "id": "40153de1",
   "metadata": {},
   "outputs": [
    {
     "data": {
      "text/plain": [
       "Timedelta('11 days 14:19:27')"
      ]
     },
     "execution_count": 3,
     "metadata": {},
     "output_type": "execute_result"
    }
   ],
   "source": [
    "time_a - time_b"
   ]
  },
  {
   "cell_type": "code",
   "execution_count": 4,
   "id": "fa87b4fe",
   "metadata": {},
   "outputs": [
    {
     "data": {
      "text/plain": [
       "Timedelta('-12 days +09:40:33')"
      ]
     },
     "execution_count": 4,
     "metadata": {},
     "output_type": "execute_result"
    }
   ],
   "source": [
    "time_b - time_a"
   ]
  },
  {
   "cell_type": "code",
   "execution_count": 5,
   "id": "94355548",
   "metadata": {},
   "outputs": [
    {
     "data": {
      "text/plain": [
       "[Timedelta('3 days 00:00:00'),\n",
       " Timedelta('0 days 03:00:00'),\n",
       " Timedelta('0 days 00:03:00'),\n",
       " Timedelta('0 days 00:00:03'),\n",
       " Timedelta('0 days 00:00:00.003000')]"
      ]
     },
     "execution_count": 5,
     "metadata": {},
     "output_type": "execute_result"
    }
   ],
   "source": [
    "time_delta = [pd.Timedelta(days = 3),\n",
    "                pd.Timedelta(hours = 3),\n",
    "                pd.Timedelta(minutes = 3),\n",
    "                pd.Timedelta(seconds = 3),\n",
    "                pd.Timedelta(milliseconds = 3)]\n",
    "time_delta"
   ]
  },
  {
   "cell_type": "code",
   "execution_count": 6,
   "id": "05769292",
   "metadata": {},
   "outputs": [
    {
     "data": {
      "text/plain": [
       "[Timestamp('2020-04-03 16:35:16'), Timestamp('2020-05-30 05:21:00')]"
      ]
     },
     "execution_count": 6,
     "metadata": {},
     "output_type": "execute_result"
    }
   ],
   "source": [
    "[time_a + pd.Timedelta(days = 3), \n",
    "time_a + pd.Timedelta(weeks = 8, days = 3, hours = 12, minutes = 45, seconds = 44)]"
   ]
  },
  {
   "cell_type": "code",
   "execution_count": 7,
   "id": "f9180c78",
   "metadata": {},
   "outputs": [
    {
     "data": {
      "text/plain": [
       "Timestamp('2020-04-03 16:35:16')"
      ]
     },
     "execution_count": 7,
     "metadata": {},
     "output_type": "execute_result"
    }
   ],
   "source": [
    "time_a + pd.Timedelta(\"3 days\")"
   ]
  },
  {
   "cell_type": "code",
   "execution_count": 8,
   "id": "93bbf4b4",
   "metadata": {},
   "outputs": [
    {
     "data": {
      "text/plain": [
       "Timestamp('2020-04-02 21:41:20')"
      ]
     },
     "execution_count": 8,
     "metadata": {},
     "output_type": "execute_result"
    }
   ],
   "source": [
    "time_a + pd.Timedelta(\"2 days 5 hours 6 minutes 4 seconds\")"
   ]
  },
  {
   "cell_type": "code",
   "execution_count": null,
   "id": "1d8b9833",
   "metadata": {},
   "outputs": [],
   "source": []
  },
  {
   "cell_type": "markdown",
   "id": "c3d03f94",
   "metadata": {},
   "source": [
    "### Timedeltas in a Dataset"
   ]
  },
  {
   "cell_type": "code",
   "execution_count": 15,
   "id": "cd9d158c",
   "metadata": {},
   "outputs": [],
   "source": [
    "shipping = pd.read_csv('ecommerce.csv', index_col = 'ID', parse_dates = ['order_date', 'delivery_date'])"
   ]
  },
  {
   "cell_type": "code",
   "execution_count": 16,
   "id": "a550bae4",
   "metadata": {},
   "outputs": [
    {
     "data": {
      "text/html": [
       "<div>\n",
       "<style scoped>\n",
       "    .dataframe tbody tr th:only-of-type {\n",
       "        vertical-align: middle;\n",
       "    }\n",
       "\n",
       "    .dataframe tbody tr th {\n",
       "        vertical-align: top;\n",
       "    }\n",
       "\n",
       "    .dataframe thead th {\n",
       "        text-align: right;\n",
       "    }\n",
       "</style>\n",
       "<table border=\"1\" class=\"dataframe\">\n",
       "  <thead>\n",
       "    <tr style=\"text-align: right;\">\n",
       "      <th></th>\n",
       "      <th>order_date</th>\n",
       "      <th>delivery_date</th>\n",
       "    </tr>\n",
       "    <tr>\n",
       "      <th>ID</th>\n",
       "      <th></th>\n",
       "      <th></th>\n",
       "    </tr>\n",
       "  </thead>\n",
       "  <tbody>\n",
       "    <tr>\n",
       "      <th>1</th>\n",
       "      <td>1998-05-24</td>\n",
       "      <td>1999-02-05</td>\n",
       "    </tr>\n",
       "    <tr>\n",
       "      <th>2</th>\n",
       "      <td>1992-04-22</td>\n",
       "      <td>1998-03-06</td>\n",
       "    </tr>\n",
       "    <tr>\n",
       "      <th>4</th>\n",
       "      <td>1991-02-10</td>\n",
       "      <td>1992-08-26</td>\n",
       "    </tr>\n",
       "    <tr>\n",
       "      <th>5</th>\n",
       "      <td>1992-07-21</td>\n",
       "      <td>1997-11-20</td>\n",
       "    </tr>\n",
       "    <tr>\n",
       "      <th>7</th>\n",
       "      <td>1993-09-02</td>\n",
       "      <td>1998-06-10</td>\n",
       "    </tr>\n",
       "  </tbody>\n",
       "</table>\n",
       "</div>"
      ],
      "text/plain": [
       "   order_date delivery_date\n",
       "ID                         \n",
       "1  1998-05-24    1999-02-05\n",
       "2  1992-04-22    1998-03-06\n",
       "4  1991-02-10    1992-08-26\n",
       "5  1992-07-21    1997-11-20\n",
       "7  1993-09-02    1998-06-10"
      ]
     },
     "execution_count": 16,
     "metadata": {},
     "output_type": "execute_result"
    }
   ],
   "source": [
    "shipping.head()"
   ]
  },
  {
   "cell_type": "code",
   "execution_count": 27,
   "id": "7a9dee86",
   "metadata": {},
   "outputs": [
    {
     "data": {
      "text/html": [
       "<div>\n",
       "<style scoped>\n",
       "    .dataframe tbody tr th:only-of-type {\n",
       "        vertical-align: middle;\n",
       "    }\n",
       "\n",
       "    .dataframe tbody tr th {\n",
       "        vertical-align: top;\n",
       "    }\n",
       "\n",
       "    .dataframe thead th {\n",
       "        text-align: right;\n",
       "    }\n",
       "</style>\n",
       "<table border=\"1\" class=\"dataframe\">\n",
       "  <thead>\n",
       "    <tr style=\"text-align: right;\">\n",
       "      <th></th>\n",
       "      <th>order_date</th>\n",
       "      <th>delivery_date</th>\n",
       "      <th>Delivery Time</th>\n",
       "    </tr>\n",
       "    <tr>\n",
       "      <th>ID</th>\n",
       "      <th></th>\n",
       "      <th></th>\n",
       "      <th></th>\n",
       "    </tr>\n",
       "  </thead>\n",
       "  <tbody>\n",
       "    <tr>\n",
       "      <th>1</th>\n",
       "      <td>1998-05-24</td>\n",
       "      <td>1999-02-05</td>\n",
       "      <td>257 days</td>\n",
       "    </tr>\n",
       "    <tr>\n",
       "      <th>2</th>\n",
       "      <td>1992-04-22</td>\n",
       "      <td>1998-03-06</td>\n",
       "      <td>2144 days</td>\n",
       "    </tr>\n",
       "    <tr>\n",
       "      <th>4</th>\n",
       "      <td>1991-02-10</td>\n",
       "      <td>1992-08-26</td>\n",
       "      <td>563 days</td>\n",
       "    </tr>\n",
       "    <tr>\n",
       "      <th>5</th>\n",
       "      <td>1992-07-21</td>\n",
       "      <td>1997-11-20</td>\n",
       "      <td>1948 days</td>\n",
       "    </tr>\n",
       "    <tr>\n",
       "      <th>7</th>\n",
       "      <td>1993-09-02</td>\n",
       "      <td>1998-06-10</td>\n",
       "      <td>1742 days</td>\n",
       "    </tr>\n",
       "  </tbody>\n",
       "</table>\n",
       "</div>"
      ],
      "text/plain": [
       "   order_date delivery_date Delivery Time\n",
       "ID                                       \n",
       "1  1998-05-24    1999-02-05      257 days\n",
       "2  1992-04-22    1998-03-06     2144 days\n",
       "4  1991-02-10    1992-08-26      563 days\n",
       "5  1992-07-21    1997-11-20     1948 days\n",
       "7  1993-09-02    1998-06-10     1742 days"
      ]
     },
     "execution_count": 27,
     "metadata": {},
     "output_type": "execute_result"
    }
   ],
   "source": [
    "shipping['Delivery Time'] = shipping['delivery_date'] - shipping['order_date']\n",
    "shipping.head()"
   ]
  },
  {
   "cell_type": "code",
   "execution_count": 32,
   "id": "81d9b218",
   "metadata": {},
   "outputs": [
    {
     "data": {
      "text/html": [
       "<div>\n",
       "<style scoped>\n",
       "    .dataframe tbody tr th:only-of-type {\n",
       "        vertical-align: middle;\n",
       "    }\n",
       "\n",
       "    .dataframe tbody tr th {\n",
       "        vertical-align: top;\n",
       "    }\n",
       "\n",
       "    .dataframe thead th {\n",
       "        text-align: right;\n",
       "    }\n",
       "</style>\n",
       "<table border=\"1\" class=\"dataframe\">\n",
       "  <thead>\n",
       "    <tr style=\"text-align: right;\">\n",
       "      <th></th>\n",
       "      <th>order_date</th>\n",
       "      <th>delivery_date</th>\n",
       "      <th>Delivery Time</th>\n",
       "      <th>Twice as Long</th>\n",
       "    </tr>\n",
       "    <tr>\n",
       "      <th>ID</th>\n",
       "      <th></th>\n",
       "      <th></th>\n",
       "      <th></th>\n",
       "      <th></th>\n",
       "    </tr>\n",
       "  </thead>\n",
       "  <tbody>\n",
       "    <tr>\n",
       "      <th>1</th>\n",
       "      <td>1998-05-24</td>\n",
       "      <td>1999-02-05</td>\n",
       "      <td>257 days</td>\n",
       "      <td>1999-10-20</td>\n",
       "    </tr>\n",
       "    <tr>\n",
       "      <th>2</th>\n",
       "      <td>1992-04-22</td>\n",
       "      <td>1998-03-06</td>\n",
       "      <td>2144 days</td>\n",
       "      <td>2004-01-18</td>\n",
       "    </tr>\n",
       "    <tr>\n",
       "      <th>4</th>\n",
       "      <td>1991-02-10</td>\n",
       "      <td>1992-08-26</td>\n",
       "      <td>563 days</td>\n",
       "      <td>1994-03-12</td>\n",
       "    </tr>\n",
       "    <tr>\n",
       "      <th>5</th>\n",
       "      <td>1992-07-21</td>\n",
       "      <td>1997-11-20</td>\n",
       "      <td>1948 days</td>\n",
       "      <td>2003-03-22</td>\n",
       "    </tr>\n",
       "    <tr>\n",
       "      <th>7</th>\n",
       "      <td>1993-09-02</td>\n",
       "      <td>1998-06-10</td>\n",
       "      <td>1742 days</td>\n",
       "      <td>2003-03-18</td>\n",
       "    </tr>\n",
       "  </tbody>\n",
       "</table>\n",
       "</div>"
      ],
      "text/plain": [
       "   order_date delivery_date Delivery Time Twice as Long\n",
       "ID                                                     \n",
       "1  1998-05-24    1999-02-05      257 days    1999-10-20\n",
       "2  1992-04-22    1998-03-06     2144 days    2004-01-18\n",
       "4  1991-02-10    1992-08-26      563 days    1994-03-12\n",
       "5  1992-07-21    1997-11-20     1948 days    2003-03-22\n",
       "7  1993-09-02    1998-06-10     1742 days    2003-03-18"
      ]
     },
     "execution_count": 32,
     "metadata": {},
     "output_type": "execute_result"
    }
   ],
   "source": [
    "shipping['Twice as Long'] = shipping['delivery_date'] + shipping['Delivery Time']\n",
    "shipping.head()"
   ]
  },
  {
   "cell_type": "code",
   "execution_count": 33,
   "id": "fd2bc9a1",
   "metadata": {},
   "outputs": [
    {
     "data": {
      "text/plain": [
       "order_date        datetime64[ns]\n",
       "delivery_date     datetime64[ns]\n",
       "Delivery Time    timedelta64[ns]\n",
       "Twice as Long     datetime64[ns]\n",
       "dtype: object"
      ]
     },
     "execution_count": 33,
     "metadata": {},
     "output_type": "execute_result"
    }
   ],
   "source": [
    "shipping.dtypes"
   ]
  },
  {
   "cell_type": "code",
   "execution_count": 40,
   "id": "a58adf1e",
   "metadata": {},
   "outputs": [
    {
     "data": {
      "text/html": [
       "<div>\n",
       "<style scoped>\n",
       "    .dataframe tbody tr th:only-of-type {\n",
       "        vertical-align: middle;\n",
       "    }\n",
       "\n",
       "    .dataframe tbody tr th {\n",
       "        vertical-align: top;\n",
       "    }\n",
       "\n",
       "    .dataframe thead th {\n",
       "        text-align: right;\n",
       "    }\n",
       "</style>\n",
       "<table border=\"1\" class=\"dataframe\">\n",
       "  <thead>\n",
       "    <tr style=\"text-align: right;\">\n",
       "      <th></th>\n",
       "      <th>order_date</th>\n",
       "      <th>delivery_date</th>\n",
       "      <th>Delivery Time</th>\n",
       "      <th>Twice as Long</th>\n",
       "    </tr>\n",
       "    <tr>\n",
       "      <th>ID</th>\n",
       "      <th></th>\n",
       "      <th></th>\n",
       "      <th></th>\n",
       "      <th></th>\n",
       "    </tr>\n",
       "  </thead>\n",
       "  <tbody>\n",
       "    <tr>\n",
       "      <th>2</th>\n",
       "      <td>1992-04-22</td>\n",
       "      <td>1998-03-06</td>\n",
       "      <td>2144 days</td>\n",
       "      <td>2004-01-18</td>\n",
       "    </tr>\n",
       "    <tr>\n",
       "      <th>4</th>\n",
       "      <td>1991-02-10</td>\n",
       "      <td>1992-08-26</td>\n",
       "      <td>563 days</td>\n",
       "      <td>1994-03-12</td>\n",
       "    </tr>\n",
       "    <tr>\n",
       "      <th>5</th>\n",
       "      <td>1992-07-21</td>\n",
       "      <td>1997-11-20</td>\n",
       "      <td>1948 days</td>\n",
       "      <td>2003-03-22</td>\n",
       "    </tr>\n",
       "    <tr>\n",
       "      <th>7</th>\n",
       "      <td>1993-09-02</td>\n",
       "      <td>1998-06-10</td>\n",
       "      <td>1742 days</td>\n",
       "      <td>2003-03-18</td>\n",
       "    </tr>\n",
       "    <tr>\n",
       "      <th>9</th>\n",
       "      <td>1990-01-25</td>\n",
       "      <td>1994-10-02</td>\n",
       "      <td>1711 days</td>\n",
       "      <td>1999-06-09</td>\n",
       "    </tr>\n",
       "    <tr>\n",
       "      <th>...</th>\n",
       "      <td>...</td>\n",
       "      <td>...</td>\n",
       "      <td>...</td>\n",
       "      <td>...</td>\n",
       "    </tr>\n",
       "    <tr>\n",
       "      <th>986</th>\n",
       "      <td>1990-12-10</td>\n",
       "      <td>1992-12-16</td>\n",
       "      <td>737 days</td>\n",
       "      <td>1994-12-23</td>\n",
       "    </tr>\n",
       "    <tr>\n",
       "      <th>990</th>\n",
       "      <td>1991-06-24</td>\n",
       "      <td>1996-02-02</td>\n",
       "      <td>1684 days</td>\n",
       "      <td>2000-09-12</td>\n",
       "    </tr>\n",
       "    <tr>\n",
       "      <th>991</th>\n",
       "      <td>1991-09-09</td>\n",
       "      <td>1998-03-30</td>\n",
       "      <td>2394 days</td>\n",
       "      <td>2004-10-18</td>\n",
       "    </tr>\n",
       "    <tr>\n",
       "      <th>993</th>\n",
       "      <td>1990-11-16</td>\n",
       "      <td>1998-04-27</td>\n",
       "      <td>2719 days</td>\n",
       "      <td>2005-10-06</td>\n",
       "    </tr>\n",
       "    <tr>\n",
       "      <th>997</th>\n",
       "      <td>1990-01-04</td>\n",
       "      <td>1991-10-03</td>\n",
       "      <td>637 days</td>\n",
       "      <td>1993-07-01</td>\n",
       "    </tr>\n",
       "  </tbody>\n",
       "</table>\n",
       "<p>394 rows × 4 columns</p>\n",
       "</div>"
      ],
      "text/plain": [
       "    order_date delivery_date Delivery Time Twice as Long\n",
       "ID                                                      \n",
       "2   1992-04-22    1998-03-06     2144 days    2004-01-18\n",
       "4   1991-02-10    1992-08-26      563 days    1994-03-12\n",
       "5   1992-07-21    1997-11-20     1948 days    2003-03-22\n",
       "7   1993-09-02    1998-06-10     1742 days    2003-03-18\n",
       "9   1990-01-25    1994-10-02     1711 days    1999-06-09\n",
       "..         ...           ...           ...           ...\n",
       "986 1990-12-10    1992-12-16      737 days    1994-12-23\n",
       "990 1991-06-24    1996-02-02     1684 days    2000-09-12\n",
       "991 1991-09-09    1998-03-30     2394 days    2004-10-18\n",
       "993 1990-11-16    1998-04-27     2719 days    2005-10-06\n",
       "997 1990-01-04    1991-10-03      637 days    1993-07-01\n",
       "\n",
       "[394 rows x 4 columns]"
      ]
     },
     "execution_count": 40,
     "metadata": {},
     "output_type": "execute_result"
    }
   ],
   "source": [
    "\"\"\"Difference between 2 datetimes = timedelta. Datetime + DateTime gives a new DateTime and not a TimeDelta. \n",
    "TimeDelta comes into the picture only when difference between dates or datetimes are involved.\"\"\"\n",
    "\n",
    "shipping[shipping['Delivery Time'] >= \"365 days\"]"
   ]
  },
  {
   "cell_type": "code",
   "execution_count": null,
   "id": "df9ce3df",
   "metadata": {},
   "outputs": [],
   "source": []
  }
 ],
 "metadata": {
  "kernelspec": {
   "display_name": "Python 3 (ipykernel)",
   "language": "python",
   "name": "python3"
  },
  "language_info": {
   "codemirror_mode": {
    "name": "ipython",
    "version": 3
   },
   "file_extension": ".py",
   "mimetype": "text/x-python",
   "name": "python",
   "nbconvert_exporter": "python",
   "pygments_lexer": "ipython3",
   "version": "3.9.13"
  }
 },
 "nbformat": 4,
 "nbformat_minor": 5
}

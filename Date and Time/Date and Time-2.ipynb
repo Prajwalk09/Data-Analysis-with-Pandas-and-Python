{
 "cells": [
  {
   "cell_type": "markdown",
   "id": "201b0f95",
   "metadata": {},
   "source": [
    "### Create Ranges of Dates with pd.date_range() Method Part 3"
   ]
  },
  {
   "cell_type": "code",
   "execution_count": 1,
   "id": "8a2d8ff2",
   "metadata": {},
   "outputs": [],
   "source": [
    "import pandas as pd\n",
    "import datetime as dt"
   ]
  },
  {
   "cell_type": "code",
   "execution_count": 2,
   "id": "d5bdb6f8",
   "metadata": {},
   "outputs": [
    {
     "data": {
      "text/plain": [
       "DatetimeIndex(['2002-03-01', '2002-03-02', '2002-03-03', '2002-03-04',\n",
       "               '2002-03-05', '2002-03-06', '2002-03-07', '2002-03-08',\n",
       "               '2002-03-09', '2002-03-10'],\n",
       "              dtype='datetime64[ns]', freq='D')"
      ]
     },
     "execution_count": 2,
     "metadata": {},
     "output_type": "execute_result"
    }
   ],
   "source": [
    "pd.date_range(end = '2002-03-10', periods = 10) #Default value for the freq parameter is \"D\" (Considers Days)"
   ]
  },
  {
   "cell_type": "code",
   "execution_count": 3,
   "id": "cc5c6798",
   "metadata": {},
   "outputs": [
    {
     "data": {
      "text/plain": [
       "DatetimeIndex(['2001-05-31', '2001-06-30', '2001-07-31', '2001-08-31',\n",
       "               '2001-09-30', '2001-10-31', '2001-11-30', '2001-12-31',\n",
       "               '2002-01-31', '2002-02-28'],\n",
       "              dtype='datetime64[ns]', freq='M')"
      ]
     },
     "execution_count": 3,
     "metadata": {},
     "output_type": "execute_result"
    }
   ],
   "source": [
    "pd.date_range(end = '2002-03-10', periods = 10, freq = 'M') #Defaults to month ends"
   ]
  },
  {
   "cell_type": "code",
   "execution_count": 4,
   "id": "c56d216b",
   "metadata": {},
   "outputs": [
    {
     "data": {
      "text/plain": [
       "DatetimeIndex(['2001-06-01', '2001-07-01', '2001-08-01', '2001-09-01',\n",
       "               '2001-10-01', '2001-11-01', '2001-12-01', '2002-01-01',\n",
       "               '2002-02-01', '2002-03-01'],\n",
       "              dtype='datetime64[ns]', freq='MS')"
      ]
     },
     "execution_count": 4,
     "metadata": {},
     "output_type": "execute_result"
    }
   ],
   "source": [
    "pd.date_range(end = '2002-03-10', periods = 10, freq = 'MS')  #Considers start of month"
   ]
  },
  {
   "cell_type": "code",
   "execution_count": 5,
   "id": "c9c176ee",
   "metadata": {},
   "outputs": [
    {
     "data": {
      "text/plain": [
       "DatetimeIndex(['2002-02-25', '2002-02-26', '2002-02-27', '2002-02-28',\n",
       "               '2002-03-01', '2002-03-04', '2002-03-05', '2002-03-06',\n",
       "               '2002-03-07', '2002-03-08'],\n",
       "              dtype='datetime64[ns]', freq='B')"
      ]
     },
     "execution_count": 5,
     "metadata": {},
     "output_type": "execute_result"
    }
   ],
   "source": [
    "pd.date_range(end = '2002-03-10', periods = 10, freq = 'B') "
   ]
  },
  {
   "cell_type": "code",
   "execution_count": null,
   "id": "fd7cdf50",
   "metadata": {},
   "outputs": [],
   "source": []
  },
  {
   "cell_type": "markdown",
   "id": "9ecdcb51",
   "metadata": {},
   "source": [
    "### The .dt Accessor"
   ]
  },
  {
   "cell_type": "code",
   "execution_count": 6,
   "id": "d808c7cf",
   "metadata": {},
   "outputs": [],
   "source": [
    "dates = pd.date_range(start = '2000-01-01', end = '2010-12-31', freq = '24D')"
   ]
  },
  {
   "cell_type": "code",
   "execution_count": 7,
   "id": "8bb4b806",
   "metadata": {},
   "outputs": [],
   "source": [
    "series = pd.Series(data = dates)"
   ]
  },
  {
   "cell_type": "code",
   "execution_count": 8,
   "id": "d5fd9e10",
   "metadata": {},
   "outputs": [
    {
     "data": {
      "text/plain": [
       "0   2000-01-01\n",
       "1   2000-01-25\n",
       "2   2000-02-18\n",
       "3   2000-03-13\n",
       "4   2000-04-06\n",
       "dtype: datetime64[ns]"
      ]
     },
     "execution_count": 8,
     "metadata": {},
     "output_type": "execute_result"
    }
   ],
   "source": [
    "series.head()"
   ]
  },
  {
   "cell_type": "code",
   "execution_count": 9,
   "id": "0c5cba52",
   "metadata": {},
   "outputs": [
    {
     "data": {
      "text/plain": [
       "0     1\n",
       "1    25\n",
       "2    18\n",
       "3    13\n",
       "4     6\n",
       "dtype: int64"
      ]
     },
     "execution_count": 9,
     "metadata": {},
     "output_type": "execute_result"
    }
   ],
   "source": [
    "series.dt.day.head()"
   ]
  },
  {
   "cell_type": "code",
   "execution_count": 10,
   "id": "ef6ab856",
   "metadata": {},
   "outputs": [
    {
     "data": {
      "text/plain": [
       "0    Saturday\n",
       "1     Tuesday\n",
       "2      Friday\n",
       "3      Monday\n",
       "4    Thursday\n",
       "dtype: object"
      ]
     },
     "execution_count": 10,
     "metadata": {},
     "output_type": "execute_result"
    }
   ],
   "source": [
    "series.dt.day_name().head()"
   ]
  },
  {
   "cell_type": "code",
   "execution_count": 11,
   "id": "b4217abb",
   "metadata": {},
   "outputs": [
    {
     "data": {
      "text/plain": [
       "0     2000-01-01\n",
       "19    2001-04-01\n",
       "38    2002-07-01\n",
       "137   2009-01-01\n",
       "dtype: datetime64[ns]"
      ]
     },
     "execution_count": 11,
     "metadata": {},
     "output_type": "execute_result"
    }
   ],
   "source": [
    "condition = series.dt.is_quarter_start\n",
    "series[condition]"
   ]
  },
  {
   "cell_type": "code",
   "execution_count": 12,
   "id": "2cc8fcc2",
   "metadata": {},
   "outputs": [
    {
     "data": {
      "text/plain": [
       "0     2000-01-01\n",
       "19    2001-04-01\n",
       "38    2002-07-01\n",
       "104   2006-11-01\n",
       "109   2007-03-01\n",
       "137   2009-01-01\n",
       "142   2009-05-01\n",
       "dtype: datetime64[ns]"
      ]
     },
     "execution_count": 12,
     "metadata": {},
     "output_type": "execute_result"
    }
   ],
   "source": [
    "month_condition = series.dt.is_month_start\n",
    "series[month_condition]"
   ]
  },
  {
   "cell_type": "code",
   "execution_count": null,
   "id": "6dc6c3dc",
   "metadata": {},
   "outputs": [],
   "source": []
  },
  {
   "cell_type": "markdown",
   "id": "3441cb13",
   "metadata": {},
   "source": [
    "### Importing Financial Datasets using pandas_datareader library"
   ]
  },
  {
   "cell_type": "code",
   "execution_count": 13,
   "id": "1942bb19",
   "metadata": {},
   "outputs": [],
   "source": [
    "from pandas_datareader import data as pdr\n",
    "import yfinance as yf\n",
    "yf.pdr_override()"
   ]
  },
  {
   "cell_type": "code",
   "execution_count": 14,
   "id": "bd8d9f3d",
   "metadata": {},
   "outputs": [
    {
     "name": "stdout",
     "output_type": "stream",
     "text": [
      "[*********************100%***********************]  1 of 1 completed\n"
     ]
    },
    {
     "data": {
      "text/html": [
       "<div>\n",
       "<style scoped>\n",
       "    .dataframe tbody tr th:only-of-type {\n",
       "        vertical-align: middle;\n",
       "    }\n",
       "\n",
       "    .dataframe tbody tr th {\n",
       "        vertical-align: top;\n",
       "    }\n",
       "\n",
       "    .dataframe thead th {\n",
       "        text-align: right;\n",
       "    }\n",
       "</style>\n",
       "<table border=\"1\" class=\"dataframe\">\n",
       "  <thead>\n",
       "    <tr style=\"text-align: right;\">\n",
       "      <th></th>\n",
       "      <th>Open</th>\n",
       "      <th>High</th>\n",
       "      <th>Low</th>\n",
       "      <th>Close</th>\n",
       "      <th>Adj Close</th>\n",
       "      <th>Volume</th>\n",
       "    </tr>\n",
       "    <tr>\n",
       "      <th>Date</th>\n",
       "      <th></th>\n",
       "      <th></th>\n",
       "      <th></th>\n",
       "      <th></th>\n",
       "      <th></th>\n",
       "      <th></th>\n",
       "    </tr>\n",
       "  </thead>\n",
       "  <tbody>\n",
       "    <tr>\n",
       "      <th>2010-01-04</th>\n",
       "      <td>30.620001</td>\n",
       "      <td>31.100000</td>\n",
       "      <td>30.590000</td>\n",
       "      <td>30.950001</td>\n",
       "      <td>23.347311</td>\n",
       "      <td>38409100</td>\n",
       "    </tr>\n",
       "    <tr>\n",
       "      <th>2010-01-05</th>\n",
       "      <td>30.850000</td>\n",
       "      <td>31.100000</td>\n",
       "      <td>30.639999</td>\n",
       "      <td>30.959999</td>\n",
       "      <td>23.354866</td>\n",
       "      <td>49749600</td>\n",
       "    </tr>\n",
       "    <tr>\n",
       "      <th>2010-01-06</th>\n",
       "      <td>30.879999</td>\n",
       "      <td>31.080000</td>\n",
       "      <td>30.520000</td>\n",
       "      <td>30.770000</td>\n",
       "      <td>23.211535</td>\n",
       "      <td>58182400</td>\n",
       "    </tr>\n",
       "    <tr>\n",
       "      <th>2010-01-07</th>\n",
       "      <td>30.629999</td>\n",
       "      <td>30.700001</td>\n",
       "      <td>30.190001</td>\n",
       "      <td>30.450001</td>\n",
       "      <td>22.970148</td>\n",
       "      <td>50559700</td>\n",
       "    </tr>\n",
       "    <tr>\n",
       "      <th>2010-01-08</th>\n",
       "      <td>30.280001</td>\n",
       "      <td>30.879999</td>\n",
       "      <td>30.240000</td>\n",
       "      <td>30.660000</td>\n",
       "      <td>23.128551</td>\n",
       "      <td>51197400</td>\n",
       "    </tr>\n",
       "  </tbody>\n",
       "</table>\n",
       "</div>"
      ],
      "text/plain": [
       "                 Open       High        Low      Close  Adj Close    Volume\n",
       "Date                                                                       \n",
       "2010-01-04  30.620001  31.100000  30.590000  30.950001  23.347311  38409100\n",
       "2010-01-05  30.850000  31.100000  30.639999  30.959999  23.354866  49749600\n",
       "2010-01-06  30.879999  31.080000  30.520000  30.770000  23.211535  58182400\n",
       "2010-01-07  30.629999  30.700001  30.190001  30.450001  22.970148  50559700\n",
       "2010-01-08  30.280001  30.879999  30.240000  30.660000  23.128551  51197400"
      ]
     },
     "execution_count": 14,
     "metadata": {},
     "output_type": "execute_result"
    }
   ],
   "source": [
    "stocks = pdr.get_data_yahoo('MSFT', start = '2010-01-01', end = '2020-12-31')\n",
    "stocks.head()"
   ]
  },
  {
   "cell_type": "code",
   "execution_count": 15,
   "id": "03a8d763",
   "metadata": {},
   "outputs": [
    {
     "data": {
      "text/plain": [
       "Open         3.062000e+01\n",
       "High         3.110000e+01\n",
       "Low          3.059000e+01\n",
       "Close        3.095000e+01\n",
       "Adj Close    2.334731e+01\n",
       "Volume       3.840910e+07\n",
       "Name: 2010-01-04 00:00:00, dtype: float64"
      ]
     },
     "execution_count": 15,
     "metadata": {},
     "output_type": "execute_result"
    }
   ],
   "source": [
    "stocks.loc[pd.Timestamp(\"2010-01-04\")]\n",
    "\n",
    "stocks.iloc[0]"
   ]
  },
  {
   "cell_type": "code",
   "execution_count": 16,
   "id": "929fb184",
   "metadata": {},
   "outputs": [
    {
     "data": {
      "text/html": [
       "<div>\n",
       "<style scoped>\n",
       "    .dataframe tbody tr th:only-of-type {\n",
       "        vertical-align: middle;\n",
       "    }\n",
       "\n",
       "    .dataframe tbody tr th {\n",
       "        vertical-align: top;\n",
       "    }\n",
       "\n",
       "    .dataframe thead th {\n",
       "        text-align: right;\n",
       "    }\n",
       "</style>\n",
       "<table border=\"1\" class=\"dataframe\">\n",
       "  <thead>\n",
       "    <tr style=\"text-align: right;\">\n",
       "      <th></th>\n",
       "      <th>Open</th>\n",
       "      <th>High</th>\n",
       "      <th>Low</th>\n",
       "      <th>Close</th>\n",
       "      <th>Adj Close</th>\n",
       "      <th>Volume</th>\n",
       "    </tr>\n",
       "    <tr>\n",
       "      <th>Date</th>\n",
       "      <th></th>\n",
       "      <th></th>\n",
       "      <th></th>\n",
       "      <th></th>\n",
       "      <th></th>\n",
       "      <th></th>\n",
       "    </tr>\n",
       "  </thead>\n",
       "  <tbody>\n",
       "    <tr>\n",
       "      <th>2010-01-04</th>\n",
       "      <td>30.620001</td>\n",
       "      <td>31.1</td>\n",
       "      <td>30.590000</td>\n",
       "      <td>30.950001</td>\n",
       "      <td>23.347311</td>\n",
       "      <td>38409100</td>\n",
       "    </tr>\n",
       "    <tr>\n",
       "      <th>2010-01-05</th>\n",
       "      <td>30.850000</td>\n",
       "      <td>31.1</td>\n",
       "      <td>30.639999</td>\n",
       "      <td>30.959999</td>\n",
       "      <td>23.354866</td>\n",
       "      <td>49749600</td>\n",
       "    </tr>\n",
       "  </tbody>\n",
       "</table>\n",
       "</div>"
      ],
      "text/plain": [
       "                 Open  High        Low      Close  Adj Close    Volume\n",
       "Date                                                                  \n",
       "2010-01-04  30.620001  31.1  30.590000  30.950001  23.347311  38409100\n",
       "2010-01-05  30.850000  31.1  30.639999  30.959999  23.354866  49749600"
      ]
     },
     "execution_count": 16,
     "metadata": {},
     "output_type": "execute_result"
    }
   ],
   "source": [
    "stocks.loc[['2010-01-04', '2010-01-05']]"
   ]
  },
  {
   "cell_type": "code",
   "execution_count": 17,
   "id": "741f7a12",
   "metadata": {},
   "outputs": [
    {
     "data": {
      "text/html": [
       "<div>\n",
       "<style scoped>\n",
       "    .dataframe tbody tr th:only-of-type {\n",
       "        vertical-align: middle;\n",
       "    }\n",
       "\n",
       "    .dataframe tbody tr th {\n",
       "        vertical-align: top;\n",
       "    }\n",
       "\n",
       "    .dataframe thead th {\n",
       "        text-align: right;\n",
       "    }\n",
       "</style>\n",
       "<table border=\"1\" class=\"dataframe\">\n",
       "  <thead>\n",
       "    <tr style=\"text-align: right;\">\n",
       "      <th></th>\n",
       "      <th>Open</th>\n",
       "      <th>High</th>\n",
       "      <th>Low</th>\n",
       "      <th>Close</th>\n",
       "      <th>Adj Close</th>\n",
       "      <th>Volume</th>\n",
       "    </tr>\n",
       "    <tr>\n",
       "      <th>Date</th>\n",
       "      <th></th>\n",
       "      <th></th>\n",
       "      <th></th>\n",
       "      <th></th>\n",
       "      <th></th>\n",
       "      <th></th>\n",
       "    </tr>\n",
       "  </thead>\n",
       "  <tbody>\n",
       "    <tr>\n",
       "      <th>2013-10-01</th>\n",
       "      <td>33.349998</td>\n",
       "      <td>33.610001</td>\n",
       "      <td>33.299999</td>\n",
       "      <td>33.580002</td>\n",
       "      <td>27.910889</td>\n",
       "      <td>36718700</td>\n",
       "    </tr>\n",
       "    <tr>\n",
       "      <th>2013-10-02</th>\n",
       "      <td>33.360001</td>\n",
       "      <td>34.029999</td>\n",
       "      <td>33.290001</td>\n",
       "      <td>33.919998</td>\n",
       "      <td>28.193481</td>\n",
       "      <td>46946800</td>\n",
       "    </tr>\n",
       "    <tr>\n",
       "      <th>2013-10-03</th>\n",
       "      <td>33.880001</td>\n",
       "      <td>34.000000</td>\n",
       "      <td>33.419998</td>\n",
       "      <td>33.860001</td>\n",
       "      <td>28.143608</td>\n",
       "      <td>38703800</td>\n",
       "    </tr>\n",
       "    <tr>\n",
       "      <th>2013-10-04</th>\n",
       "      <td>33.689999</td>\n",
       "      <td>33.990002</td>\n",
       "      <td>33.619999</td>\n",
       "      <td>33.880001</td>\n",
       "      <td>28.160234</td>\n",
       "      <td>33008100</td>\n",
       "    </tr>\n",
       "    <tr>\n",
       "      <th>2013-10-07</th>\n",
       "      <td>33.599998</td>\n",
       "      <td>33.709999</td>\n",
       "      <td>33.200001</td>\n",
       "      <td>33.299999</td>\n",
       "      <td>27.678156</td>\n",
       "      <td>35069300</td>\n",
       "    </tr>\n",
       "  </tbody>\n",
       "</table>\n",
       "</div>"
      ],
      "text/plain": [
       "                 Open       High        Low      Close  Adj Close    Volume\n",
       "Date                                                                       \n",
       "2013-10-01  33.349998  33.610001  33.299999  33.580002  27.910889  36718700\n",
       "2013-10-02  33.360001  34.029999  33.290001  33.919998  28.193481  46946800\n",
       "2013-10-03  33.880001  34.000000  33.419998  33.860001  28.143608  38703800\n",
       "2013-10-04  33.689999  33.990002  33.619999  33.880001  28.160234  33008100\n",
       "2013-10-07  33.599998  33.709999  33.200001  33.299999  27.678156  35069300"
      ]
     },
     "execution_count": 17,
     "metadata": {},
     "output_type": "execute_result"
    }
   ],
   "source": [
    "stocks.loc['2013-10-01':'2013-10-07']"
   ]
  },
  {
   "cell_type": "code",
   "execution_count": 18,
   "id": "28c95f76",
   "metadata": {},
   "outputs": [
    {
     "data": {
      "text/html": [
       "<div>\n",
       "<style scoped>\n",
       "    .dataframe tbody tr th:only-of-type {\n",
       "        vertical-align: middle;\n",
       "    }\n",
       "\n",
       "    .dataframe tbody tr th {\n",
       "        vertical-align: top;\n",
       "    }\n",
       "\n",
       "    .dataframe thead th {\n",
       "        text-align: right;\n",
       "    }\n",
       "</style>\n",
       "<table border=\"1\" class=\"dataframe\">\n",
       "  <thead>\n",
       "    <tr style=\"text-align: right;\">\n",
       "      <th></th>\n",
       "      <th>Open</th>\n",
       "      <th>High</th>\n",
       "      <th>Low</th>\n",
       "      <th>Close</th>\n",
       "      <th>Adj Close</th>\n",
       "      <th>Volume</th>\n",
       "    </tr>\n",
       "    <tr>\n",
       "      <th>Date</th>\n",
       "      <th></th>\n",
       "      <th></th>\n",
       "      <th></th>\n",
       "      <th></th>\n",
       "      <th></th>\n",
       "      <th></th>\n",
       "    </tr>\n",
       "  </thead>\n",
       "  <tbody>\n",
       "    <tr>\n",
       "      <th>2013-10-01</th>\n",
       "      <td>33.349998</td>\n",
       "      <td>33.610001</td>\n",
       "      <td>33.299999</td>\n",
       "      <td>33.580002</td>\n",
       "      <td>27.910889</td>\n",
       "      <td>36718700</td>\n",
       "    </tr>\n",
       "    <tr>\n",
       "      <th>2013-10-02</th>\n",
       "      <td>33.360001</td>\n",
       "      <td>34.029999</td>\n",
       "      <td>33.290001</td>\n",
       "      <td>33.919998</td>\n",
       "      <td>28.193481</td>\n",
       "      <td>46946800</td>\n",
       "    </tr>\n",
       "    <tr>\n",
       "      <th>2013-10-03</th>\n",
       "      <td>33.880001</td>\n",
       "      <td>34.000000</td>\n",
       "      <td>33.419998</td>\n",
       "      <td>33.860001</td>\n",
       "      <td>28.143608</td>\n",
       "      <td>38703800</td>\n",
       "    </tr>\n",
       "    <tr>\n",
       "      <th>2013-10-04</th>\n",
       "      <td>33.689999</td>\n",
       "      <td>33.990002</td>\n",
       "      <td>33.619999</td>\n",
       "      <td>33.880001</td>\n",
       "      <td>28.160234</td>\n",
       "      <td>33008100</td>\n",
       "    </tr>\n",
       "    <tr>\n",
       "      <th>2013-10-07</th>\n",
       "      <td>33.599998</td>\n",
       "      <td>33.709999</td>\n",
       "      <td>33.200001</td>\n",
       "      <td>33.299999</td>\n",
       "      <td>27.678156</td>\n",
       "      <td>35069300</td>\n",
       "    </tr>\n",
       "  </tbody>\n",
       "</table>\n",
       "</div>"
      ],
      "text/plain": [
       "                 Open       High        Low      Close  Adj Close    Volume\n",
       "Date                                                                       \n",
       "2013-10-01  33.349998  33.610001  33.299999  33.580002  27.910889  36718700\n",
       "2013-10-02  33.360001  34.029999  33.290001  33.919998  28.193481  46946800\n",
       "2013-10-03  33.880001  34.000000  33.419998  33.860001  28.143608  38703800\n",
       "2013-10-04  33.689999  33.990002  33.619999  33.880001  28.160234  33008100\n",
       "2013-10-07  33.599998  33.709999  33.200001  33.299999  27.678156  35069300"
      ]
     },
     "execution_count": 18,
     "metadata": {},
     "output_type": "execute_result"
    }
   ],
   "source": [
    "stocks.truncate(before = '2013-10-01', after = '2013-10-07')"
   ]
  },
  {
   "cell_type": "code",
   "execution_count": 19,
   "id": "8aacb37d",
   "metadata": {},
   "outputs": [
    {
     "name": "stdout",
     "output_type": "stream",
     "text": [
      "[*********************100%***********************]  1 of 1 completed\n"
     ]
    }
   ],
   "source": [
    "birthday_stock_values = pdr.get_data_yahoo(tickers = 'JPM', start = '2002-03-09', end = '2024-03-09')"
   ]
  },
  {
   "cell_type": "code",
   "execution_count": 20,
   "id": "962be354",
   "metadata": {},
   "outputs": [
    {
     "data": {
      "text/plain": [
       "DatetimeIndex(['2002-03-09', '2003-03-09', '2004-03-09', '2005-03-09',\n",
       "               '2006-03-09', '2007-03-09', '2008-03-09', '2009-03-09',\n",
       "               '2010-03-09', '2011-03-09', '2012-03-09', '2013-03-09',\n",
       "               '2014-03-09', '2015-03-09', '2016-03-09', '2017-03-09',\n",
       "               '2018-03-09', '2019-03-09', '2020-03-09', '2021-03-09',\n",
       "               '2022-03-09', '2023-03-09', '2024-03-09'],\n",
       "              dtype='datetime64[ns]', freq='<DateOffset: years=1>')"
      ]
     },
     "execution_count": 20,
     "metadata": {},
     "output_type": "execute_result"
    }
   ],
   "source": [
    "birthday_dates = pd.date_range(start = '2002-03-09', end = '2024-03-09', freq = pd.DateOffset(years = 1))\n",
    "birthday_dates"
   ]
  },
  {
   "cell_type": "code",
   "execution_count": 21,
   "id": "fc389326",
   "metadata": {},
   "outputs": [
    {
     "data": {
      "text/html": [
       "<div>\n",
       "<style scoped>\n",
       "    .dataframe tbody tr th:only-of-type {\n",
       "        vertical-align: middle;\n",
       "    }\n",
       "\n",
       "    .dataframe tbody tr th {\n",
       "        vertical-align: top;\n",
       "    }\n",
       "\n",
       "    .dataframe thead th {\n",
       "        text-align: right;\n",
       "    }\n",
       "</style>\n",
       "<table border=\"1\" class=\"dataframe\">\n",
       "  <thead>\n",
       "    <tr style=\"text-align: right;\">\n",
       "      <th></th>\n",
       "      <th>Open</th>\n",
       "      <th>High</th>\n",
       "      <th>Low</th>\n",
       "      <th>Close</th>\n",
       "      <th>Adj Close</th>\n",
       "      <th>Volume</th>\n",
       "    </tr>\n",
       "    <tr>\n",
       "      <th>Date</th>\n",
       "      <th></th>\n",
       "      <th></th>\n",
       "      <th></th>\n",
       "      <th></th>\n",
       "      <th></th>\n",
       "      <th></th>\n",
       "    </tr>\n",
       "  </thead>\n",
       "  <tbody>\n",
       "    <tr>\n",
       "      <th>2004-03-09</th>\n",
       "      <td>42.939999</td>\n",
       "      <td>42.939999</td>\n",
       "      <td>42.290001</td>\n",
       "      <td>42.470001</td>\n",
       "      <td>24.159285</td>\n",
       "      <td>9036700</td>\n",
       "    </tr>\n",
       "    <tr>\n",
       "      <th>2005-03-09</th>\n",
       "      <td>36.730000</td>\n",
       "      <td>36.820000</td>\n",
       "      <td>36.340000</td>\n",
       "      <td>36.470001</td>\n",
       "      <td>21.465214</td>\n",
       "      <td>17648000</td>\n",
       "    </tr>\n",
       "    <tr>\n",
       "      <th>2006-03-09</th>\n",
       "      <td>41.500000</td>\n",
       "      <td>41.740002</td>\n",
       "      <td>40.959999</td>\n",
       "      <td>41.049999</td>\n",
       "      <td>25.100662</td>\n",
       "      <td>9767500</td>\n",
       "    </tr>\n",
       "    <tr>\n",
       "      <th>2007-03-09</th>\n",
       "      <td>49.119999</td>\n",
       "      <td>49.349998</td>\n",
       "      <td>48.529999</td>\n",
       "      <td>48.820000</td>\n",
       "      <td>30.775656</td>\n",
       "      <td>9452900</td>\n",
       "    </tr>\n",
       "    <tr>\n",
       "      <th>2009-03-09</th>\n",
       "      <td>15.370000</td>\n",
       "      <td>17.290001</td>\n",
       "      <td>15.020000</td>\n",
       "      <td>15.900000</td>\n",
       "      <td>10.757875</td>\n",
       "      <td>132882900</td>\n",
       "    </tr>\n",
       "    <tr>\n",
       "      <th>2010-03-09</th>\n",
       "      <td>42.389999</td>\n",
       "      <td>42.820000</td>\n",
       "      <td>42.049999</td>\n",
       "      <td>42.419998</td>\n",
       "      <td>28.863968</td>\n",
       "      <td>37107100</td>\n",
       "    </tr>\n",
       "    <tr>\n",
       "      <th>2011-03-09</th>\n",
       "      <td>46.330002</td>\n",
       "      <td>47.099998</td>\n",
       "      <td>46.020000</td>\n",
       "      <td>46.560001</td>\n",
       "      <td>31.837275</td>\n",
       "      <td>25174700</td>\n",
       "    </tr>\n",
       "    <tr>\n",
       "      <th>2012-03-09</th>\n",
       "      <td>40.750000</td>\n",
       "      <td>41.439999</td>\n",
       "      <td>40.500000</td>\n",
       "      <td>41.029999</td>\n",
       "      <td>28.837313</td>\n",
       "      <td>33494200</td>\n",
       "    </tr>\n",
       "    <tr>\n",
       "      <th>2015-03-09</th>\n",
       "      <td>60.840000</td>\n",
       "      <td>61.630001</td>\n",
       "      <td>60.799999</td>\n",
       "      <td>61.500000</td>\n",
       "      <td>46.954121</td>\n",
       "      <td>13001500</td>\n",
       "    </tr>\n",
       "    <tr>\n",
       "      <th>2016-03-09</th>\n",
       "      <td>59.150002</td>\n",
       "      <td>59.540001</td>\n",
       "      <td>58.680000</td>\n",
       "      <td>59.119999</td>\n",
       "      <td>46.373028</td>\n",
       "      <td>13238800</td>\n",
       "    </tr>\n",
       "    <tr>\n",
       "      <th>2017-03-09</th>\n",
       "      <td>91.599998</td>\n",
       "      <td>92.139999</td>\n",
       "      <td>91.150002</td>\n",
       "      <td>91.570000</td>\n",
       "      <td>73.857986</td>\n",
       "      <td>13726200</td>\n",
       "    </tr>\n",
       "    <tr>\n",
       "      <th>2018-03-09</th>\n",
       "      <td>116.550003</td>\n",
       "      <td>118.080002</td>\n",
       "      <td>115.669998</td>\n",
       "      <td>118.040001</td>\n",
       "      <td>97.349068</td>\n",
       "      <td>15366600</td>\n",
       "    </tr>\n",
       "    <tr>\n",
       "      <th>2020-03-09</th>\n",
       "      <td>96.570000</td>\n",
       "      <td>99.230003</td>\n",
       "      <td>93.000000</td>\n",
       "      <td>93.440002</td>\n",
       "      <td>81.385651</td>\n",
       "      <td>40352000</td>\n",
       "    </tr>\n",
       "    <tr>\n",
       "      <th>2021-03-09</th>\n",
       "      <td>151.500000</td>\n",
       "      <td>154.250000</td>\n",
       "      <td>149.820007</td>\n",
       "      <td>151.830002</td>\n",
       "      <td>137.151855</td>\n",
       "      <td>16238800</td>\n",
       "    </tr>\n",
       "    <tr>\n",
       "      <th>2022-03-09</th>\n",
       "      <td>132.899994</td>\n",
       "      <td>135.240005</td>\n",
       "      <td>132.440002</td>\n",
       "      <td>133.440002</td>\n",
       "      <td>123.418533</td>\n",
       "      <td>17536200</td>\n",
       "    </tr>\n",
       "    <tr>\n",
       "      <th>2023-03-09</th>\n",
       "      <td>136.759995</td>\n",
       "      <td>137.350006</td>\n",
       "      <td>129.220001</td>\n",
       "      <td>130.339996</td>\n",
       "      <td>124.528473</td>\n",
       "      <td>25888100</td>\n",
       "    </tr>\n",
       "  </tbody>\n",
       "</table>\n",
       "</div>"
      ],
      "text/plain": [
       "                  Open        High         Low       Close   Adj Close  \\\n",
       "Date                                                                     \n",
       "2004-03-09   42.939999   42.939999   42.290001   42.470001   24.159285   \n",
       "2005-03-09   36.730000   36.820000   36.340000   36.470001   21.465214   \n",
       "2006-03-09   41.500000   41.740002   40.959999   41.049999   25.100662   \n",
       "2007-03-09   49.119999   49.349998   48.529999   48.820000   30.775656   \n",
       "2009-03-09   15.370000   17.290001   15.020000   15.900000   10.757875   \n",
       "2010-03-09   42.389999   42.820000   42.049999   42.419998   28.863968   \n",
       "2011-03-09   46.330002   47.099998   46.020000   46.560001   31.837275   \n",
       "2012-03-09   40.750000   41.439999   40.500000   41.029999   28.837313   \n",
       "2015-03-09   60.840000   61.630001   60.799999   61.500000   46.954121   \n",
       "2016-03-09   59.150002   59.540001   58.680000   59.119999   46.373028   \n",
       "2017-03-09   91.599998   92.139999   91.150002   91.570000   73.857986   \n",
       "2018-03-09  116.550003  118.080002  115.669998  118.040001   97.349068   \n",
       "2020-03-09   96.570000   99.230003   93.000000   93.440002   81.385651   \n",
       "2021-03-09  151.500000  154.250000  149.820007  151.830002  137.151855   \n",
       "2022-03-09  132.899994  135.240005  132.440002  133.440002  123.418533   \n",
       "2023-03-09  136.759995  137.350006  129.220001  130.339996  124.528473   \n",
       "\n",
       "               Volume  \n",
       "Date                   \n",
       "2004-03-09    9036700  \n",
       "2005-03-09   17648000  \n",
       "2006-03-09    9767500  \n",
       "2007-03-09    9452900  \n",
       "2009-03-09  132882900  \n",
       "2010-03-09   37107100  \n",
       "2011-03-09   25174700  \n",
       "2012-03-09   33494200  \n",
       "2015-03-09   13001500  \n",
       "2016-03-09   13238800  \n",
       "2017-03-09   13726200  \n",
       "2018-03-09   15366600  \n",
       "2020-03-09   40352000  \n",
       "2021-03-09   16238800  \n",
       "2022-03-09   17536200  \n",
       "2023-03-09   25888100  "
      ]
     },
     "execution_count": 21,
     "metadata": {},
     "output_type": "execute_result"
    }
   ],
   "source": [
    "condition = birthday_stock_values.index.isin(birthday_dates)\n",
    "birthday_stock_values[condition]"
   ]
  },
  {
   "cell_type": "code",
   "execution_count": null,
   "id": "a3eaff3a",
   "metadata": {},
   "outputs": [],
   "source": []
  },
  {
   "cell_type": "code",
   "execution_count": null,
   "id": "cbd39b1b",
   "metadata": {},
   "outputs": [],
   "source": []
  }
 ],
 "metadata": {
  "kernelspec": {
   "display_name": "Python 3 (ipykernel)",
   "language": "python",
   "name": "python3"
  },
  "language_info": {
   "codemirror_mode": {
    "name": "ipython",
    "version": 3
   },
   "file_extension": ".py",
   "mimetype": "text/x-python",
   "name": "python",
   "nbconvert_exporter": "python",
   "pygments_lexer": "ipython3",
   "version": "3.9.13"
  }
 },
 "nbformat": 4,
 "nbformat_minor": 5
}

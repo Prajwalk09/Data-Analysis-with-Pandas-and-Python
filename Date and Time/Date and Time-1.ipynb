{
 "cells": [
  {
   "cell_type": "markdown",
   "id": "6496ef1c",
   "metadata": {},
   "source": [
    "### Review of the datetime Module"
   ]
  },
  {
   "cell_type": "code",
   "execution_count": 1,
   "id": "b9952c4b",
   "metadata": {},
   "outputs": [],
   "source": [
    "import pandas as pd\n",
    "import datetime as dt"
   ]
  },
  {
   "cell_type": "code",
   "execution_count": 2,
   "id": "ee79eb59",
   "metadata": {},
   "outputs": [],
   "source": [
    "someday = dt.date(year = 2016, month = 4, day = 12)"
   ]
  },
  {
   "cell_type": "code",
   "execution_count": 3,
   "id": "99942de2",
   "metadata": {},
   "outputs": [
    {
     "data": {
      "text/plain": [
       "'2016-04-12'"
      ]
     },
     "execution_count": 3,
     "metadata": {},
     "output_type": "execute_result"
    }
   ],
   "source": [
    "someday.year\n",
    "someday.month\n",
    "someday.day\n",
    "str(someday)"
   ]
  },
  {
   "cell_type": "code",
   "execution_count": 4,
   "id": "9800ff39",
   "metadata": {},
   "outputs": [
    {
     "data": {
      "text/plain": [
       "'2016-04-12 08:13:49'"
      ]
     },
     "execution_count": 4,
     "metadata": {},
     "output_type": "execute_result"
    }
   ],
   "source": [
    "str(dt.datetime(year = 2016, month = 4, day = 12, hour = 8, minute = 13, second = 49))"
   ]
  },
  {
   "cell_type": "code",
   "execution_count": 5,
   "id": "02479203",
   "metadata": {},
   "outputs": [
    {
     "data": {
      "text/plain": [
       "0"
      ]
     },
     "execution_count": 5,
     "metadata": {},
     "output_type": "execute_result"
    }
   ],
   "source": [
    "sometime = dt.datetime(year = 2016, month = 4, day = 12, hour = 8, minute = 13, second = 49)\n",
    "sometime.year\n",
    "sometime.hour\n",
    "sometime.minute\n",
    "sometime.microsecond"
   ]
  },
  {
   "cell_type": "markdown",
   "id": "e4d30070",
   "metadata": {},
   "source": [
    "### Pandas Timestamp Object"
   ]
  },
  {
   "cell_type": "code",
   "execution_count": 6,
   "id": "184ad627",
   "metadata": {},
   "outputs": [
    {
     "data": {
      "text/plain": [
       "Timestamp('2021-01-09 20:35:04')"
      ]
     },
     "execution_count": 6,
     "metadata": {},
     "output_type": "execute_result"
    }
   ],
   "source": [
    "pd.Timestamp(\"2015-03-31\")\n",
    "pd.Timestamp(\"2015/03/31\")\n",
    "pd.Timestamp(\"2015/11/04\")\n",
    "pd.Timestamp('1/15/2015')\n",
    "# pd.Timestamp('19/12/2015')\n",
    "pd.Timestamp('2021-01-09 8:35:04 PM')"
   ]
  },
  {
   "cell_type": "code",
   "execution_count": 7,
   "id": "c9c60c30",
   "metadata": {},
   "outputs": [
    {
     "data": {
      "text/plain": [
       "Timestamp('2015-01-01 00:00:00')"
      ]
     },
     "execution_count": 7,
     "metadata": {},
     "output_type": "execute_result"
    }
   ],
   "source": [
    "pd.Timestamp(dt.date(2015, 1, 1))"
   ]
  },
  {
   "cell_type": "code",
   "execution_count": null,
   "id": "defc6d22",
   "metadata": {},
   "outputs": [],
   "source": []
  },
  {
   "cell_type": "markdown",
   "id": "fb1f2617",
   "metadata": {},
   "source": [
    "### Pandas DateTimeIndex Object"
   ]
  },
  {
   "cell_type": "code",
   "execution_count": 8,
   "id": "8c8cdba4",
   "metadata": {},
   "outputs": [
    {
     "data": {
      "text/plain": [
       "DatetimeIndex(['2016-01-02', '2016-04-12', '2016-09-07'], dtype='datetime64[ns]', freq=None)"
      ]
     },
     "execution_count": 8,
     "metadata": {},
     "output_type": "execute_result"
    }
   ],
   "source": [
    "dates = ['2016/01/02', '2016/04/12', '2016/09/07']\n",
    "pd.DatetimeIndex(data = dates)"
   ]
  },
  {
   "cell_type": "code",
   "execution_count": 9,
   "id": "2a1c725e",
   "metadata": {},
   "outputs": [],
   "source": [
    "dates = [dt.date(2016, 1, 1), dt.date(1994, 6, 13), dt.date(2020, 1, 12)]\n",
    "dateIndex = pd.DatetimeIndex(data = dates)"
   ]
  },
  {
   "cell_type": "code",
   "execution_count": 10,
   "id": "c0c5f4bf",
   "metadata": {},
   "outputs": [
    {
     "data": {
      "text/plain": [
       "2016-01-01    100\n",
       "1994-06-13    200\n",
       "2020-01-12    400\n",
       "dtype: int64"
      ]
     },
     "execution_count": 10,
     "metadata": {},
     "output_type": "execute_result"
    }
   ],
   "source": [
    "values = [100, 200, 400]\n",
    "pd.Series(data = values, index = dateIndex)"
   ]
  },
  {
   "cell_type": "code",
   "execution_count": null,
   "id": "831347d4",
   "metadata": {},
   "outputs": [],
   "source": []
  },
  {
   "cell_type": "markdown",
   "id": "11f31847",
   "metadata": {},
   "source": [
    "### The pd.to_datetime() Method"
   ]
  },
  {
   "cell_type": "code",
   "execution_count": 11,
   "id": "00b6f0dc",
   "metadata": {},
   "outputs": [
    {
     "data": {
      "text/plain": [
       "Timestamp('2001-04-19 20:34:00')"
      ]
     },
     "execution_count": 11,
     "metadata": {},
     "output_type": "execute_result"
    }
   ],
   "source": [
    "pd.to_datetime('2001-04-19 8:34 PM')"
   ]
  },
  {
   "cell_type": "code",
   "execution_count": 12,
   "id": "a357c659",
   "metadata": {},
   "outputs": [
    {
     "data": {
      "text/plain": [
       "Timestamp('2001-01-09 00:00:00')"
      ]
     },
     "execution_count": 12,
     "metadata": {},
     "output_type": "execute_result"
    }
   ],
   "source": [
    "pd.to_datetime(dt.date(2001, 1, 9))"
   ]
  },
  {
   "cell_type": "code",
   "execution_count": 13,
   "id": "821ed8da",
   "metadata": {},
   "outputs": [
    {
     "data": {
      "text/plain": [
       "DatetimeIndex(['2001-01-09', '2004-01-12', '2005-01-01', '1996-07-04'], dtype='datetime64[ns]', freq=None)"
      ]
     },
     "execution_count": 13,
     "metadata": {},
     "output_type": "execute_result"
    }
   ],
   "source": [
    "pd.to_datetime(['2001-01-09', '2004/01/12', '2005', 'July 4th 1996'])"
   ]
  },
  {
   "cell_type": "code",
   "execution_count": 14,
   "id": "b064f8c7",
   "metadata": {},
   "outputs": [
    {
     "data": {
      "text/plain": [
       "Timestamp('2001-01-09 00:00:00')"
      ]
     },
     "execution_count": 14,
     "metadata": {},
     "output_type": "execute_result"
    }
   ],
   "source": [
    "pd.to_datetime('2001 01 09')"
   ]
  },
  {
   "cell_type": "code",
   "execution_count": 15,
   "id": "64e6180f",
   "metadata": {},
   "outputs": [
    {
     "data": {
      "text/plain": [
       "0   2001-01-09\n",
       "1   2004-01-12\n",
       "2   2005-01-01\n",
       "3   1996-07-04\n",
       "dtype: datetime64[ns]"
      ]
     },
     "execution_count": 15,
     "metadata": {},
     "output_type": "execute_result"
    }
   ],
   "source": [
    "times = pd.Series(['2001-01-09', '2004/01/12', '2005', 'July 4th 1996'])\n",
    "pd.to_datetime(arg = times)"
   ]
  },
  {
   "cell_type": "code",
   "execution_count": 16,
   "id": "67dfc9fc",
   "metadata": {},
   "outputs": [
    {
     "data": {
      "text/plain": [
       "0   1996-07-04\n",
       "1   1991-10-04\n",
       "2          NaT\n",
       "3          NaT\n",
       "dtype: datetime64[ns]"
      ]
     },
     "execution_count": 16,
     "metadata": {},
     "output_type": "execute_result"
    }
   ],
   "source": [
    "dates = pd.Series([\"July 4th 1996\", 'October 4th 1991', 'Hello World', '2001-02-31'])\n",
    "\"\"\"NAT = Not A Time\"\"\"\n",
    "pd.to_datetime(arg = dates, errors = 'coerce')"
   ]
  },
  {
   "cell_type": "code",
   "execution_count": 17,
   "id": "1a3045cc",
   "metadata": {},
   "outputs": [
    {
     "data": {
      "text/plain": [
       "0       July 4th 1996\n",
       "1    October 4th 1991\n",
       "2         Hello World\n",
       "3          2001-02-31\n",
       "dtype: object"
      ]
     },
     "execution_count": 17,
     "metadata": {},
     "output_type": "execute_result"
    }
   ],
   "source": [
    "pd.to_datetime(arg = dates, errors = 'ignore')"
   ]
  },
  {
   "cell_type": "code",
   "execution_count": null,
   "id": "a47c8c59",
   "metadata": {},
   "outputs": [],
   "source": []
  },
  {
   "cell_type": "markdown",
   "id": "2cd0c4af",
   "metadata": {},
   "source": [
    "### Create Date Ranges with pd.date_range() Method"
   ]
  },
  {
   "cell_type": "code",
   "execution_count": 36,
   "id": "0d3fbf9b",
   "metadata": {},
   "outputs": [
    {
     "data": {
      "text/plain": [
       "pandas.core.indexes.datetimes.DatetimeIndex"
      ]
     },
     "execution_count": 36,
     "metadata": {},
     "output_type": "execute_result"
    }
   ],
   "source": [
    "times = pd.date_range(start = '2016-01-01', end = '2016-01-10', freq = 'd' )\n",
    "\"\"\"Generates dates between the start date and the end date and the frequency being days. Other values which can be given \n",
    "to the frequency argument are h(hours) and s(seconds)\"\"\"\n",
    "type(times)"
   ]
  },
  {
   "cell_type": "code",
   "execution_count": 30,
   "id": "217b8bfc",
   "metadata": {},
   "outputs": [
    {
     "data": {
      "text/plain": [
       "pandas._libs.tslibs.timestamps.Timestamp"
      ]
     },
     "execution_count": 30,
     "metadata": {},
     "output_type": "execute_result"
    }
   ],
   "source": [
    "type(times[0])"
   ]
  },
  {
   "cell_type": "code",
   "execution_count": 43,
   "id": "a7ef1937",
   "metadata": {},
   "outputs": [
    {
     "data": {
      "text/plain": [
       "DatetimeIndex(['2000-12-23', '2000-12-24', '2000-12-25', '2000-12-26',\n",
       "               '2000-12-27', '2000-12-28', '2000-12-29', '2000-12-30',\n",
       "               '2000-12-31', '2001-01-01'],\n",
       "              dtype='datetime64[ns]', freq='D')"
      ]
     },
     "execution_count": 43,
     "metadata": {},
     "output_type": "execute_result"
    }
   ],
   "source": [
    "pd.date_range(start = '2001-01-01', periods = 10, freq = 'D')\n",
    "\"\"\"Out of the 3 arguments (start, end, periods) in the date_range(), 2 of them have to be specified to get the desired output\"\"\"\n",
    "pd.date_range(end = '2001-01-01', periods = 10, freq = 'D')"
   ]
  },
  {
   "cell_type": "code",
   "execution_count": 45,
   "id": "dc4ea699",
   "metadata": {},
   "outputs": [
    {
     "data": {
      "text/plain": [
       "DatetimeIndex(['2016-01-01', '2016-01-03', '2016-01-05', '2016-01-07',\n",
       "               '2016-01-09'],\n",
       "              dtype='datetime64[ns]', freq='2D')"
      ]
     },
     "execution_count": 45,
     "metadata": {},
     "output_type": "execute_result"
    }
   ],
   "source": [
    "\"\"\"If a number is mentioned along with 'd', 'h' or 's' in the frequency argument, it will work as shown below\"\"\"\n",
    "pd.date_range(start = '2016-01-01', end = '2016-01-10', freq = '2d' )"
   ]
  },
  {
   "cell_type": "code",
   "execution_count": 50,
   "id": "59af2124",
   "metadata": {},
   "outputs": [
    {
     "data": {
      "text/plain": [
       "DatetimeIndex(['2016-01-01', '2016-01-04', '2016-01-05', '2016-01-06',\n",
       "               '2016-01-07', '2016-01-08'],\n",
       "              dtype='datetime64[ns]', freq='B')"
      ]
     },
     "execution_count": 50,
     "metadata": {},
     "output_type": "execute_result"
    }
   ],
   "source": [
    "\"\"\"B is used to include only business dates in the range, thus excluding weekends\"\"\"\n",
    "pd.date_range(start = '2016-01-01', end = '2016-01-10', freq = 'B' )"
   ]
  },
  {
   "cell_type": "code",
   "execution_count": 51,
   "id": "10a271fc",
   "metadata": {},
   "outputs": [
    {
     "data": {
      "text/plain": [
       "DatetimeIndex(['2016-01-03', '2016-01-10'], dtype='datetime64[ns]', freq='W-SUN')"
      ]
     },
     "execution_count": 51,
     "metadata": {},
     "output_type": "execute_result"
    }
   ],
   "source": [
    "pd.date_range(start = '2016-01-01', end = '2016-01-10', freq = 'W' )"
   ]
  },
  {
   "cell_type": "code",
   "execution_count": 53,
   "id": "8bfbc66d",
   "metadata": {},
   "outputs": [
    {
     "data": {
      "text/plain": [
       "DatetimeIndex(['2016-01-01', '2016-01-08', '2016-01-15'], dtype='datetime64[ns]', freq='W-FRI')"
      ]
     },
     "execution_count": 53,
     "metadata": {},
     "output_type": "execute_result"
    }
   ],
   "source": [
    "pd.date_range(start = '2016-01-01', end = '2016-01-15', freq = 'W-FRI' )"
   ]
  },
  {
   "cell_type": "code",
   "execution_count": 59,
   "id": "7085f63b",
   "metadata": {},
   "outputs": [
    {
     "data": {
      "text/plain": [
       "DatetimeIndex(['2016-01-01 00:00:00', '2016-01-01 06:00:00',\n",
       "               '2016-01-01 12:00:00', '2016-01-01 18:00:00',\n",
       "               '2016-01-02 00:00:00', '2016-01-02 06:00:00',\n",
       "               '2016-01-02 12:00:00', '2016-01-02 18:00:00',\n",
       "               '2016-01-03 00:00:00', '2016-01-03 06:00:00',\n",
       "               '2016-01-03 12:00:00', '2016-01-03 18:00:00',\n",
       "               '2016-01-04 00:00:00', '2016-01-04 06:00:00',\n",
       "               '2016-01-04 12:00:00', '2016-01-04 18:00:00',\n",
       "               '2016-01-05 00:00:00', '2016-01-05 06:00:00',\n",
       "               '2016-01-05 12:00:00', '2016-01-05 18:00:00',\n",
       "               '2016-01-06 00:00:00', '2016-01-06 06:00:00',\n",
       "               '2016-01-06 12:00:00', '2016-01-06 18:00:00',\n",
       "               '2016-01-07 00:00:00', '2016-01-07 06:00:00',\n",
       "               '2016-01-07 12:00:00', '2016-01-07 18:00:00',\n",
       "               '2016-01-08 00:00:00', '2016-01-08 06:00:00',\n",
       "               '2016-01-08 12:00:00', '2016-01-08 18:00:00',\n",
       "               '2016-01-09 00:00:00', '2016-01-09 06:00:00',\n",
       "               '2016-01-09 12:00:00', '2016-01-09 18:00:00',\n",
       "               '2016-01-10 00:00:00'],\n",
       "              dtype='datetime64[ns]', freq='6H')"
      ]
     },
     "execution_count": 59,
     "metadata": {},
     "output_type": "execute_result"
    }
   ],
   "source": [
    "pd.date_range(start = '2016-01-01', end = '2016-01-10', freq = '6h' )"
   ]
  },
  {
   "cell_type": "code",
   "execution_count": 69,
   "id": "ea2f011f",
   "metadata": {},
   "outputs": [
    {
     "data": {
      "text/plain": [
       "DatetimeIndex(['2016-01-01', '2016-02-01', '2016-03-01', '2016-04-01',\n",
       "               '2016-05-01', '2016-06-01', '2016-07-01', '2016-08-01',\n",
       "               '2016-09-01', '2016-10-01', '2016-11-01', '2016-12-01',\n",
       "               '2017-01-01'],\n",
       "              dtype='datetime64[ns]', freq='MS')"
      ]
     },
     "execution_count": 69,
     "metadata": {},
     "output_type": "execute_result"
    }
   ],
   "source": [
    "pd.date_range(start = '2016-01-01', end = '2017-01-10', freq = 'M' )  # Includes only month ends in the range\n",
    "pd.date_range(start = '2016-01-01', end = '2017-01-10', freq = 'MS' ) # Includes month starts in the range"
   ]
  },
  {
   "cell_type": "code",
   "execution_count": 76,
   "id": "bf70d9b6",
   "metadata": {},
   "outputs": [
    {
     "data": {
      "text/plain": [
       "DatetimeIndex(['2016-01-01', '2017-01-01', '2018-01-01', '2019-01-01',\n",
       "               '2020-01-01', '2021-01-01', '2022-01-01', '2023-01-01',\n",
       "               '2024-01-01', '2025-01-01', '2026-01-01', '2027-01-01',\n",
       "               '2028-01-01', '2029-01-01', '2030-01-01', '2031-01-01',\n",
       "               '2032-01-01', '2033-01-01', '2034-01-01', '2035-01-01',\n",
       "               '2036-01-01', '2037-01-01', '2038-01-01', '2039-01-01',\n",
       "               '2040-01-01', '2041-01-01', '2042-01-01', '2043-01-01',\n",
       "               '2044-01-01', '2045-01-01', '2046-01-01', '2047-01-01',\n",
       "               '2048-01-01', '2049-01-01', '2050-01-01'],\n",
       "              dtype='datetime64[ns]', freq='AS-JAN')"
      ]
     },
     "execution_count": 76,
     "metadata": {},
     "output_type": "execute_result"
    }
   ],
   "source": [
    "pd.date_range(start = '2016-01-01', end = '2050-01-10', freq = 'A' )   # Includes only year ends in the range\n",
    "pd.date_range(start = '2016-01-01', end = '2050-01-10', freq = 'AS' )  # Includes only year starts in the range"
   ]
  },
  {
   "cell_type": "code",
   "execution_count": null,
   "id": "dc91165f",
   "metadata": {},
   "outputs": [],
   "source": []
  },
  {
   "cell_type": "markdown",
   "id": "ac2a09a2",
   "metadata": {},
   "source": [
    "### date_range() Method Part 2"
   ]
  },
  {
   "cell_type": "code",
   "execution_count": 80,
   "id": "29fbece7",
   "metadata": {},
   "outputs": [
    {
     "data": {
      "text/plain": [
       "DatetimeIndex(['2002-03-09', '2002-03-10', '2002-03-11', '2002-03-12',\n",
       "               '2002-03-13', '2002-03-14', '2002-03-15', '2002-03-16',\n",
       "               '2002-03-17', '2002-03-18'],\n",
       "              dtype='datetime64[ns]', freq='D')"
      ]
     },
     "execution_count": 80,
     "metadata": {},
     "output_type": "execute_result"
    }
   ],
   "source": [
    "\"\"\"periods represents the number of results we want to get\"\"\"\n",
    "pd.date_range(start = '2002-03-09', periods = 10)"
   ]
  },
  {
   "cell_type": "code",
   "execution_count": 81,
   "id": "8aff7bcc",
   "metadata": {},
   "outputs": [
    {
     "data": {
      "text/plain": [
       "DatetimeIndex(['2002-03-11', '2002-03-12', '2002-03-13', '2002-03-14',\n",
       "               '2002-03-15', '2002-03-18', '2002-03-19', '2002-03-20',\n",
       "               '2002-03-21', '2002-03-22'],\n",
       "              dtype='datetime64[ns]', freq='B')"
      ]
     },
     "execution_count": 81,
     "metadata": {},
     "output_type": "execute_result"
    }
   ],
   "source": [
    "\"\"\"Includes only 10 Business Dates after 2002-03-09\"\"\"\n",
    "pd.date_range(start = '2002-03-09', periods = 10, freq = 'B')"
   ]
  },
  {
   "cell_type": "code",
   "execution_count": 83,
   "id": "b36d928c",
   "metadata": {},
   "outputs": [
    {
     "data": {
      "text/plain": [
       "DatetimeIndex(['2002-03-10', '2002-03-17', '2002-03-24', '2002-03-31',\n",
       "               '2002-04-07', '2002-04-14', '2002-04-21', '2002-04-28',\n",
       "               '2002-05-05', '2002-05-12'],\n",
       "              dtype='datetime64[ns]', freq='W-SUN')"
      ]
     },
     "execution_count": 83,
     "metadata": {},
     "output_type": "execute_result"
    }
   ],
   "source": [
    "\"\"\"Generates 10 weeks after the start date\"\"\"\n",
    "pd.date_range(start = '2002-03-09', periods = 10, freq = 'W')"
   ]
  },
  {
   "cell_type": "code",
   "execution_count": 85,
   "id": "a7881bd5",
   "metadata": {},
   "outputs": [
    {
     "data": {
      "text/plain": [
       "DatetimeIndex(['2002-03-11', '2002-03-18', '2002-03-25', '2002-04-01',\n",
       "               '2002-04-08', '2002-04-15', '2002-04-22', '2002-04-29',\n",
       "               '2002-05-06', '2002-05-13'],\n",
       "              dtype='datetime64[ns]', freq='W-MON')"
      ]
     },
     "execution_count": 85,
     "metadata": {},
     "output_type": "execute_result"
    }
   ],
   "source": [
    "pd.date_range(start = '2002-03-09', periods = 10, freq = 'W-MON')"
   ]
  },
  {
   "cell_type": "code",
   "execution_count": 86,
   "id": "7739da90",
   "metadata": {},
   "outputs": [
    {
     "data": {
      "text/plain": [
       "DatetimeIndex(['2002-03-31', '2002-04-30', '2002-05-31', '2002-06-30',\n",
       "               '2002-07-31', '2002-08-31', '2002-09-30', '2002-10-31',\n",
       "               '2002-11-30', '2002-12-31'],\n",
       "              dtype='datetime64[ns]', freq='M')"
      ]
     },
     "execution_count": 86,
     "metadata": {},
     "output_type": "execute_result"
    }
   ],
   "source": [
    "pd.date_range(start = '2002-03-09', periods = 10, freq = 'M')"
   ]
  },
  {
   "cell_type": "code",
   "execution_count": 88,
   "id": "7d58ef94",
   "metadata": {},
   "outputs": [
    {
     "data": {
      "text/plain": [
       "DatetimeIndex(['2002-04-01', '2002-05-01', '2002-06-01', '2002-07-01',\n",
       "               '2002-08-01', '2002-09-01', '2002-10-01', '2002-11-01',\n",
       "               '2002-12-01', '2003-01-01'],\n",
       "              dtype='datetime64[ns]', freq='MS')"
      ]
     },
     "execution_count": 88,
     "metadata": {},
     "output_type": "execute_result"
    }
   ],
   "source": [
    "pd.date_range(start = '2002-03-09', periods = 10, freq = 'MS')"
   ]
  },
  {
   "cell_type": "code",
   "execution_count": 89,
   "id": "e620b48d",
   "metadata": {},
   "outputs": [
    {
     "data": {
      "text/plain": [
       "DatetimeIndex(['2002-03-09 00:00:00', '2002-03-09 01:00:00',\n",
       "               '2002-03-09 02:00:00', '2002-03-09 03:00:00',\n",
       "               '2002-03-09 04:00:00', '2002-03-09 05:00:00',\n",
       "               '2002-03-09 06:00:00', '2002-03-09 07:00:00',\n",
       "               '2002-03-09 08:00:00', '2002-03-09 09:00:00'],\n",
       "              dtype='datetime64[ns]', freq='H')"
      ]
     },
     "execution_count": 89,
     "metadata": {},
     "output_type": "execute_result"
    }
   ],
   "source": [
    "pd.date_range(start = '2002-03-09', periods = 10, freq = 'H')"
   ]
  },
  {
   "cell_type": "code",
   "execution_count": 92,
   "id": "eabfc0ae",
   "metadata": {},
   "outputs": [
    {
     "data": {
      "text/plain": [
       "DatetimeIndex(['2002-03-09 00:00:00', '2002-03-09 02:00:00',\n",
       "               '2002-03-09 04:00:00', '2002-03-09 06:00:00',\n",
       "               '2002-03-09 08:00:00', '2002-03-09 10:00:00',\n",
       "               '2002-03-09 12:00:00', '2002-03-09 14:00:00',\n",
       "               '2002-03-09 16:00:00', '2002-03-09 18:00:00'],\n",
       "              dtype='datetime64[ns]', freq='2H')"
      ]
     },
     "execution_count": 92,
     "metadata": {},
     "output_type": "execute_result"
    }
   ],
   "source": [
    "pd.date_range(start = '2002-03-09', periods = 10, freq = '2H')"
   ]
  },
  {
   "cell_type": "code",
   "execution_count": null,
   "id": "be175024",
   "metadata": {},
   "outputs": [],
   "source": []
  }
 ],
 "metadata": {
  "kernelspec": {
   "display_name": "Python 3 (ipykernel)",
   "language": "python",
   "name": "python3"
  },
  "language_info": {
   "codemirror_mode": {
    "name": "ipython",
    "version": 3
   },
   "file_extension": ".py",
   "mimetype": "text/x-python",
   "name": "python",
   "nbconvert_exporter": "python",
   "pygments_lexer": "ipython3",
   "version": "3.9.13"
  }
 },
 "nbformat": 4,
 "nbformat_minor": 5
}

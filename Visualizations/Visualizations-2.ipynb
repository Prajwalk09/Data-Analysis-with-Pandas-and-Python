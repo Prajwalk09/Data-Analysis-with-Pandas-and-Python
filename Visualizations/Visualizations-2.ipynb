{
 "cells": [
  {
   "cell_type": "markdown",
   "id": "47dcf4ed",
   "metadata": {},
   "source": [
    "### Creating Pie Charts to Represent Proportions"
   ]
  },
  {
   "cell_type": "code",
   "execution_count": 1,
   "id": "c1bf7d72",
   "metadata": {},
   "outputs": [],
   "source": [
    "import pandas as pd\n",
    "import matplotlib.pyplot as plt\n",
    "%matplotlib inline\n",
    "\n",
    "from pandas_datareader import data as pdr\n",
    "import yfinance as yf\n",
    "yf.pdr_override()"
   ]
  },
  {
   "cell_type": "code",
   "execution_count": 2,
   "id": "13b2ef84",
   "metadata": {},
   "outputs": [
    {
     "name": "stdout",
     "output_type": "stream",
     "text": [
      "[*********************100%***********************]  1 of 1 completed\n"
     ]
    },
    {
     "data": {
      "text/html": [
       "<div>\n",
       "<style scoped>\n",
       "    .dataframe tbody tr th:only-of-type {\n",
       "        vertical-align: middle;\n",
       "    }\n",
       "\n",
       "    .dataframe tbody tr th {\n",
       "        vertical-align: top;\n",
       "    }\n",
       "\n",
       "    .dataframe thead th {\n",
       "        text-align: right;\n",
       "    }\n",
       "</style>\n",
       "<table border=\"1\" class=\"dataframe\">\n",
       "  <thead>\n",
       "    <tr style=\"text-align: right;\">\n",
       "      <th></th>\n",
       "      <th>Open</th>\n",
       "      <th>High</th>\n",
       "      <th>Low</th>\n",
       "      <th>Close</th>\n",
       "      <th>Adj Close</th>\n",
       "      <th>Volume</th>\n",
       "    </tr>\n",
       "    <tr>\n",
       "      <th>Date</th>\n",
       "      <th></th>\n",
       "      <th></th>\n",
       "      <th></th>\n",
       "      <th></th>\n",
       "      <th></th>\n",
       "      <th></th>\n",
       "    </tr>\n",
       "  </thead>\n",
       "  <tbody>\n",
       "    <tr>\n",
       "      <th>2007-01-03</th>\n",
       "      <td>43.086666</td>\n",
       "      <td>44.026669</td>\n",
       "      <td>41.703335</td>\n",
       "      <td>42.849998</td>\n",
       "      <td>42.849998</td>\n",
       "      <td>34739100</td>\n",
       "    </tr>\n",
       "    <tr>\n",
       "      <th>2007-01-04</th>\n",
       "      <td>42.953335</td>\n",
       "      <td>46.316666</td>\n",
       "      <td>42.423332</td>\n",
       "      <td>46.189999</td>\n",
       "      <td>46.189999</td>\n",
       "      <td>46007700</td>\n",
       "    </tr>\n",
       "    <tr>\n",
       "      <th>2007-01-05</th>\n",
       "      <td>45.500000</td>\n",
       "      <td>47.306667</td>\n",
       "      <td>45.166668</td>\n",
       "      <td>47.099998</td>\n",
       "      <td>47.099998</td>\n",
       "      <td>41453400</td>\n",
       "    </tr>\n",
       "    <tr>\n",
       "      <th>2007-01-08</th>\n",
       "      <td>47.283333</td>\n",
       "      <td>48.410000</td>\n",
       "      <td>46.606667</td>\n",
       "      <td>47.386665</td>\n",
       "      <td>47.386665</td>\n",
       "      <td>38547300</td>\n",
       "    </tr>\n",
       "    <tr>\n",
       "      <th>2007-01-09</th>\n",
       "      <td>47.570000</td>\n",
       "      <td>47.666668</td>\n",
       "      <td>43.263332</td>\n",
       "      <td>43.666668</td>\n",
       "      <td>43.666668</td>\n",
       "      <td>74142000</td>\n",
       "    </tr>\n",
       "  </tbody>\n",
       "</table>\n",
       "</div>"
      ],
      "text/plain": [
       "                 Open       High        Low      Close  Adj Close    Volume\n",
       "Date                                                                       \n",
       "2007-01-03  43.086666  44.026669  41.703335  42.849998  42.849998  34739100\n",
       "2007-01-04  42.953335  46.316666  42.423332  46.189999  46.189999  46007700\n",
       "2007-01-05  45.500000  47.306667  45.166668  47.099998  47.099998  41453400\n",
       "2007-01-08  47.283333  48.410000  46.606667  47.386665  47.386665  38547300\n",
       "2007-01-09  47.570000  47.666668  43.263332  43.666668  43.666668  74142000"
      ]
     },
     "execution_count": 2,
     "metadata": {},
     "output_type": "execute_result"
    }
   ],
   "source": [
    "stocks = pdr.get_data_yahoo(tickers = 'BB', start = '2007-01-01', end = '2020-12-31')\n",
    "stocks.head()"
   ]
  },
  {
   "cell_type": "code",
   "execution_count": 3,
   "id": "9addec85",
   "metadata": {},
   "outputs": [
    {
     "data": {
      "text/plain": [
       "29.459240453332562"
      ]
     },
     "execution_count": 3,
     "metadata": {},
     "output_type": "execute_result"
    }
   ],
   "source": [
    "mean_stock_price = stocks['Close'].mean()\n",
    "mean_stock_price"
   ]
  },
  {
   "cell_type": "code",
   "execution_count": 4,
   "id": "c8320e46",
   "metadata": {},
   "outputs": [],
   "source": [
    "def rank_stock_performance(stock_price):\n",
    "    if stock_price < mean_stock_price:\n",
    "        return \"Below Average\"\n",
    "    else:\n",
    "        return \"Above Average\""
   ]
  },
  {
   "cell_type": "code",
   "execution_count": 5,
   "id": "f0d8d31c",
   "metadata": {},
   "outputs": [
    {
     "data": {
      "image/png": "[encoded data removed]",
      "text/plain": [
       "<Figure size 640x480 with 1 Axes>"
      ]
     },
     "metadata": {},
     "output_type": "display_data"
    }
   ],
   "source": [
    "plt.style.use('dark_background')\n",
    "stocks['Close'].apply(rank_stock_performance).value_counts().plot(kind = 'pie', legend = True)\n",
    "plt.ylabel(\"\")\n",
    "plt.title(\"Stock Price Comparison\")\n",
    "plt.show()"
   ]
  },
  {
   "cell_type": "code",
   "execution_count": null,
   "id": "320b485e",
   "metadata": {},
   "outputs": [],
   "source": []
  }
 ],
 "metadata": {
  "kernelspec": {
   "display_name": "Python 3 (ipykernel)",
   "language": "python",
   "name": "python3"
  },
  "language_info": {
   "codemirror_mode": {
    "name": "ipython",
    "version": 3
   },
   "file_extension": ".py",
   "mimetype": "text/x-python",
   "name": "python",
   "nbconvert_exporter": "python",
   "pygments_lexer": "ipython3",
   "version": "3.9.13"
  }
 },
 "nbformat": 4,
 "nbformat_minor": 5
}
